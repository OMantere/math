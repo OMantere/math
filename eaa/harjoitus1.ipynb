{
 "cells": [
  {
   "cell_type": "code",
   "execution_count": 1,
   "metadata": {
    "collapsed": true
   },
   "outputs": [],
   "source": [
    "set.seed(123)\n",
    "paastot = read.table(\"npaastot.txt\", header=T, sep=\"\\t\")"
   ]
  },
  {
   "cell_type": "code",
   "execution_count": 2,
   "metadata": {
    "collapsed": false
   },
   "outputs": [
    {
     "data": {
      "text/plain": [
       "     ObsNo            NOx            Humidity           Temp      \n",
       " Min.   : 1.00   Min.   :0.6900   Min.   : 33.85   Min.   :65.44  \n",
       " 1st Qu.: 5.75   1st Qu.:0.7175   1st Qu.: 77.94   1st Qu.:73.50  \n",
       " Median :10.50   Median :0.7600   Median : 96.22   Median :77.82  \n",
       " Mean   :10.50   Mean   :0.7910   Mean   : 93.98   Mean   :78.57  \n",
       " 3rd Qu.:15.25   3rd Qu.:0.8275   3rd Qu.:111.55   3rd Qu.:86.03  \n",
       " Max.   :20.00   Max.   :1.0100   Max.   :139.47   Max.   :89.28  \n",
       "    Pressure    \n",
       " Min.   :28.87  \n",
       " 1st Qu.:29.03  \n",
       " Median :29.07  \n",
       " Mean   :29.15  \n",
       " 3rd Qu.:29.16  \n",
       " Max.   :29.98  "
      ]
     },
     "metadata": {},
     "output_type": "display_data"
    }
   ],
   "source": [
    "summary(paastot)"
   ]
  },
  {
   "cell_type": "code",
   "execution_count": 3,
   "metadata": {
    "collapsed": true
   },
   "outputs": [],
   "source": [
    "tupakka = read.table(\"tupakka.txt\", header=T, sep=\"\\t\")"
   ]
  },
  {
   "cell_type": "code",
   "execution_count": 4,
   "metadata": {
    "collapsed": false
   },
   "outputs": [
    {
     "data": {
      "text/plain": [
       "    CONFINTL         CONFINTU          DIST               FIT       \n",
       " Min.   : 32.93   Min.   :199.4   Min.   :0.000000   Min.   :116.2  \n",
       " 1st Qu.: 74.30   1st Qu.:215.3   1st Qu.:0.007937   1st Qu.:144.8  \n",
       " Median :109.43   Median :232.9   Median :0.029086   Median :171.1  \n",
       " Mean   :125.60   Mean   :283.1   Mean   :0.291474   Mean   :204.4  \n",
       " 3rd Qu.:175.74   3rd Qu.:332.6   3rd Qu.:0.060223   3rd Qu.:254.2  \n",
       " Max.   :238.76   Max.   :479.3   Max.   :2.233204   Max.   :359.0  \n",
       "    KULUTUS            LEV               MAA            OUT           \n",
       " Min.   : 220.0   Min.   :0.09472   Min.   : 1.0   Min.   :-4.854433  \n",
       " 1st Qu.: 345.0   1st Qu.:0.10564   1st Qu.: 3.5   1st Qu.:-0.400069  \n",
       " Median : 460.0   Median :0.14981   Median : 6.0   Median : 0.000043  \n",
       " Mean   : 605.0   Mean   :0.18182   Mean   : 6.0   Mean   :-0.189284  \n",
       " 3rd Qu.: 822.5   3rd Qu.:0.22910   3rd Qu.: 8.5   3rd Qu.: 0.573401  \n",
       " Max.   :1280.0   Max.   :0.39931   Max.   :11.0   Max.   : 2.374792  \n",
       "     PDIST             POUT             PREDINTL          PREDINTU    \n",
       " Min.   :0.1631   Min.   :0.001265   Min.   :-91.562   Min.   :323.9  \n",
       " 1st Qu.:0.9420   1st Qu.:0.424877   1st Qu.:-58.180   1st Qu.:347.8  \n",
       " Median :0.9714   Median :0.691085   Median :-28.927   Median :371.2  \n",
       " Mean   :0.8589   Mean   :0.560742   Mean   : -2.373   Mean   :411.1  \n",
       " 3rd Qu.:0.9921   3rd Qu.:0.755401   3rd Qu.: 47.526   3rd Qu.:460.9  \n",
       " Max.   :1.0000   Max.   :0.999966   Max.   :133.889   Max.   :584.1  \n",
       "      RES                SAIRAST          STDRES          \n",
       " Min.   :-169.01640   Min.   : 58.0   Min.   :-2.5921090  \n",
       " 1st Qu.: -32.81268   1st Qu.:132.5   1st Qu.:-0.4201440  \n",
       " Median :   0.00366   Median :170.0   Median : 0.0000461  \n",
       " Mean   :   0.00001   Mean   :204.4   Mean   :-0.0259310  \n",
       " 3rd Qu.:  45.80378   3rd Qu.:247.5   3rd Qu.: 0.5922286  \n",
       " Max.   : 136.91408   Max.   :465.0   Max.   : 1.9290587  "
      ]
     },
     "metadata": {},
     "output_type": "display_data"
    }
   ],
   "source": [
    "summary(tupakka)"
   ]
  },
  {
   "cell_type": "code",
   "execution_count": 5,
   "metadata": {
    "collapsed": false
   },
   "outputs": [
    {
     "data": {
      "text/html": [
       "15"
      ],
      "text/latex": [
       "15"
      ],
      "text/markdown": [
       "15"
      ],
      "text/plain": [
       "[1] 15"
      ]
     },
     "metadata": {},
     "output_type": "display_data"
    }
   ],
   "source": [
    "ncol(tupakka)"
   ]
  },
  {
   "cell_type": "code",
   "execution_count": 14,
   "metadata": {
    "collapsed": false
   },
   "outputs": [],
   "source": [
    "sairast <- tupakka[14]"
   ]
  },
  {
   "cell_type": "code",
   "execution_count": 15,
   "metadata": {
    "collapsed": false
   },
   "outputs": [],
   "source": [
    "kulutus <- tupakka[5]"
   ]
  },
  {
   "cell_type": "code",
   "execution_count": 16,
   "metadata": {
    "collapsed": false
   },
   "outputs": [
    {
     "data": {
      "text/html": [
       "<table>\n",
       "<thead><tr><th></th><th scope=col>KULUTUS</th></tr></thead>\n",
       "<tbody>\n",
       "\t<tr><th scope=row>1</th><td>220</td></tr>\n",
       "\t<tr><th scope=row>2</th><td>250</td></tr>\n",
       "\t<tr><th scope=row>3</th><td>310</td></tr>\n",
       "\t<tr><th scope=row>4</th><td>510</td></tr>\n",
       "\t<tr><th scope=row>5</th><td>380</td></tr>\n",
       "\t<tr><th scope=row>6</th><td>455</td></tr>\n",
       "\t<tr><th scope=row>7</th><td>1280</td></tr>\n",
       "\t<tr><th scope=row>8</th><td>460</td></tr>\n",
       "\t<tr><th scope=row>9</th><td>530</td></tr>\n",
       "\t<tr><th scope=row>10</th><td>1115</td></tr>\n",
       "\t<tr><th scope=row>11</th><td>1145</td></tr>\n",
       "</tbody>\n",
       "</table>\n"
      ],
      "text/latex": [
       "\\begin{tabular}{r|l}\n",
       "  & KULUTUS\\\\\n",
       "\\hline\n",
       "\t1 & 220\\\\\n",
       "\t2 & 250\\\\\n",
       "\t3 & 310\\\\\n",
       "\t4 & 510\\\\\n",
       "\t5 & 380\\\\\n",
       "\t6 & 455\\\\\n",
       "\t7 & 1280\\\\\n",
       "\t8 & 460\\\\\n",
       "\t9 & 530\\\\\n",
       "\t10 & 1115\\\\\n",
       "\t11 & 1145\\\\\n",
       "\\end{tabular}\n"
      ],
      "text/plain": [
       "   KULUTUS\n",
       "1      220\n",
       "2      250\n",
       "3      310\n",
       "4      510\n",
       "5      380\n",
       "6      455\n",
       "7     1280\n",
       "8      460\n",
       "9      530\n",
       "10    1115\n",
       "11    1145"
      ]
     },
     "metadata": {},
     "output_type": "display_data"
    }
   ],
   "source": [
    "kulutus"
   ]
  },
  {
   "cell_type": "code",
   "execution_count": 17,
   "metadata": {
    "collapsed": false
   },
   "outputs": [
    {
     "ename": "ERROR",
     "evalue": "Error in model.frame.default(formula = kulutus ~ tupakka, data = paastot, : invalid type (list) for variable 'kulutus'\n",
     "output_type": "error",
     "traceback": [
      "Error in model.frame.default(formula = kulutus ~ tupakka, data = paastot, : invalid type (list) for variable 'kulutus'\nTraceback:\n",
      "1. lm(kulutus ~ tupakka, data = paastot)",
      "2. eval(mf, parent.frame())",
      "3. eval(expr, envir, enclos)",
      "4. stats::model.frame(formula = kulutus ~ tupakka, data = paastot, \n .     drop.unused.levels = TRUE)",
      "5. model.frame.default(formula = kulutus ~ tupakka, data = paastot, \n .     drop.unused.levels = TRUE)"
     ]
    }
   ],
   "source": [
    "sovite1 <- lm(kulutus~tupakka, data=paastot)"
   ]
  },
  {
   "cell_type": "code",
   "execution_count": 21,
   "metadata": {
    "collapsed": false
   },
   "outputs": [
    {
     "name": "stderr",
     "output_type": "stream",
     "text": [
      "Warning message in cbind(Intercept, tmp):\n",
      "“number of rows of result is not a multiple of vector length (arg 1)”"
     ]
    }
   ],
   "source": [
    "tmp <- as.matrix(tupakka[14])\n",
    "n <- nrow(paastot)\n",
    "Intercept <- rep(1,n)\n",
    "kulutus2 <- cbind(Intercept,tmp)"
   ]
  },
  {
   "cell_type": "code",
   "execution_count": 22,
   "metadata": {
    "collapsed": false
   },
   "outputs": [
    {
     "data": {
      "text/html": [
       "<table>\n",
       "<thead><tr><th scope=col>Intercept</th><th scope=col>SAIRAST</th></tr></thead>\n",
       "<tbody>\n",
       "\t<tr><td> 1</td><td>58</td></tr>\n",
       "\t<tr><td> 1</td><td>90</td></tr>\n",
       "\t<tr><td>  1</td><td>115</td></tr>\n",
       "\t<tr><td>  1</td><td>150</td></tr>\n",
       "\t<tr><td>  1</td><td>165</td></tr>\n",
       "\t<tr><td>  1</td><td>170</td></tr>\n",
       "\t<tr><td>  1</td><td>190</td></tr>\n",
       "\t<tr><td>  1</td><td>245</td></tr>\n",
       "\t<tr><td>  1</td><td>250</td></tr>\n",
       "\t<tr><td>  1</td><td>350</td></tr>\n",
       "\t<tr><td>  1</td><td>465</td></tr>\n",
       "</tbody>\n",
       "</table>\n"
      ],
      "text/latex": [
       "\\begin{tabular}{ll}\n",
       " Intercept & SAIRAST\\\\\n",
       "\\hline\n",
       "\t  1 & 58\\\\\n",
       "\t  1 & 90\\\\\n",
       "\t   1 & 115\\\\\n",
       "\t   1 & 150\\\\\n",
       "\t   1 & 165\\\\\n",
       "\t   1 & 170\\\\\n",
       "\t   1 & 190\\\\\n",
       "\t   1 & 245\\\\\n",
       "\t   1 & 250\\\\\n",
       "\t   1 & 350\\\\\n",
       "\t   1 & 465\\\\\n",
       "\\end{tabular}\n"
      ],
      "text/markdown": [
       "1. 1\n",
       "2. 1\n",
       "3. 1\n",
       "4. 1\n",
       "5. 1\n",
       "6. 1\n",
       "7. 1\n",
       "8. 1\n",
       "9. 1\n",
       "10. 1\n",
       "11. 1\n",
       "12. 58\n",
       "13. 90\n",
       "14. 115\n",
       "15. 150\n",
       "16. 165\n",
       "17. 170\n",
       "18. 190\n",
       "19. 245\n",
       "20. 250\n",
       "21. 350\n",
       "22. 465\n",
       "\n",
       "\n"
      ],
      "text/plain": [
       "      Intercept SAIRAST\n",
       " [1,]         1      58\n",
       " [2,]         1      90\n",
       " [3,]         1     115\n",
       " [4,]         1     150\n",
       " [5,]         1     165\n",
       " [6,]         1     170\n",
       " [7,]         1     190\n",
       " [8,]         1     245\n",
       " [9,]         1     250\n",
       "[10,]         1     350\n",
       "[11,]         1     465"
      ]
     },
     "metadata": {},
     "output_type": "display_data"
    }
   ],
   "source": [
    "kulutus2"
   ]
  },
  {
   "cell_type": "code",
   "execution_count": 23,
   "metadata": {
    "collapsed": false
   },
   "outputs": [
    {
     "data": {
      "text/html": [
       "<table>\n",
       "<thead><tr><th></th><th scope=col>SAIRAST</th></tr></thead>\n",
       "<tbody>\n",
       "\t<tr><th scope=row>1</th><td>58</td></tr>\n",
       "\t<tr><th scope=row>2</th><td>90</td></tr>\n",
       "\t<tr><th scope=row>3</th><td>115</td></tr>\n",
       "\t<tr><th scope=row>4</th><td>150</td></tr>\n",
       "\t<tr><th scope=row>5</th><td>165</td></tr>\n",
       "\t<tr><th scope=row>6</th><td>170</td></tr>\n",
       "\t<tr><th scope=row>7</th><td>190</td></tr>\n",
       "\t<tr><th scope=row>8</th><td>245</td></tr>\n",
       "\t<tr><th scope=row>9</th><td>250</td></tr>\n",
       "\t<tr><th scope=row>10</th><td>350</td></tr>\n",
       "\t<tr><th scope=row>11</th><td>465</td></tr>\n",
       "</tbody>\n",
       "</table>\n"
      ],
      "text/latex": [
       "\\begin{tabular}{r|l}\n",
       "  & SAIRAST\\\\\n",
       "\\hline\n",
       "\t1 & 58\\\\\n",
       "\t2 & 90\\\\\n",
       "\t3 & 115\\\\\n",
       "\t4 & 150\\\\\n",
       "\t5 & 165\\\\\n",
       "\t6 & 170\\\\\n",
       "\t7 & 190\\\\\n",
       "\t8 & 245\\\\\n",
       "\t9 & 250\\\\\n",
       "\t10 & 350\\\\\n",
       "\t11 & 465\\\\\n",
       "\\end{tabular}\n"
      ],
      "text/plain": [
       "   SAIRAST\n",
       "1       58\n",
       "2       90\n",
       "3      115\n",
       "4      150\n",
       "5      165\n",
       "6      170\n",
       "7      190\n",
       "8      245\n",
       "9      250\n",
       "10     350\n",
       "11     465"
      ]
     },
     "metadata": {},
     "output_type": "display_data"
    }
   ],
   "source": [
    "sairast"
   ]
  },
  {
   "cell_type": "code",
   "execution_count": 24,
   "metadata": {
    "collapsed": false
   },
   "outputs": [
    {
     "data": {
      "text/html": [
       "<table>\n",
       "<thead><tr><th></th><th scope=col>KULUTUS</th></tr></thead>\n",
       "<tbody>\n",
       "\t<tr><th scope=row>1</th><td>220</td></tr>\n",
       "\t<tr><th scope=row>2</th><td>250</td></tr>\n",
       "\t<tr><th scope=row>3</th><td>310</td></tr>\n",
       "\t<tr><th scope=row>4</th><td>510</td></tr>\n",
       "\t<tr><th scope=row>5</th><td>380</td></tr>\n",
       "\t<tr><th scope=row>6</th><td>455</td></tr>\n",
       "\t<tr><th scope=row>7</th><td>1280</td></tr>\n",
       "\t<tr><th scope=row>8</th><td>460</td></tr>\n",
       "\t<tr><th scope=row>9</th><td>530</td></tr>\n",
       "\t<tr><th scope=row>10</th><td>1115</td></tr>\n",
       "\t<tr><th scope=row>11</th><td>1145</td></tr>\n",
       "</tbody>\n",
       "</table>\n"
      ],
      "text/latex": [
       "\\begin{tabular}{r|l}\n",
       "  & KULUTUS\\\\\n",
       "\\hline\n",
       "\t1 & 220\\\\\n",
       "\t2 & 250\\\\\n",
       "\t3 & 310\\\\\n",
       "\t4 & 510\\\\\n",
       "\t5 & 380\\\\\n",
       "\t6 & 455\\\\\n",
       "\t7 & 1280\\\\\n",
       "\t8 & 460\\\\\n",
       "\t9 & 530\\\\\n",
       "\t10 & 1115\\\\\n",
       "\t11 & 1145\\\\\n",
       "\\end{tabular}\n"
      ],
      "text/plain": [
       "   KULUTUS\n",
       "1      220\n",
       "2      250\n",
       "3      310\n",
       "4      510\n",
       "5      380\n",
       "6      455\n",
       "7     1280\n",
       "8      460\n",
       "9      530\n",
       "10    1115\n",
       "11    1145"
      ]
     },
     "metadata": {},
     "output_type": "display_data"
    }
   ],
   "source": [
    "kulutus"
   ]
  },
  {
   "cell_type": "code",
   "execution_count": 27,
   "metadata": {
    "collapsed": true
   },
   "outputs": [],
   "source": [
    "sairast <- as.matrix(tupakka[14])"
   ]
  },
  {
   "cell_type": "code",
   "execution_count": 28,
   "metadata": {
    "collapsed": false
   },
   "outputs": [
    {
     "data": {
      "text/html": [
       "<table>\n",
       "<thead><tr><th scope=col>SAIRAST</th></tr></thead>\n",
       "<tbody>\n",
       "\t<tr><td>58</td></tr>\n",
       "\t<tr><td>90</td></tr>\n",
       "\t<tr><td>115</td></tr>\n",
       "\t<tr><td>150</td></tr>\n",
       "\t<tr><td>165</td></tr>\n",
       "\t<tr><td>170</td></tr>\n",
       "\t<tr><td>190</td></tr>\n",
       "\t<tr><td>245</td></tr>\n",
       "\t<tr><td>250</td></tr>\n",
       "\t<tr><td>350</td></tr>\n",
       "\t<tr><td>465</td></tr>\n",
       "</tbody>\n",
       "</table>\n"
      ],
      "text/latex": [
       "\\begin{tabular}{l}\n",
       " SAIRAST\\\\\n",
       "\\hline\n",
       "\t 58\\\\\n",
       "\t 90\\\\\n",
       "\t 115\\\\\n",
       "\t 150\\\\\n",
       "\t 165\\\\\n",
       "\t 170\\\\\n",
       "\t 190\\\\\n",
       "\t 245\\\\\n",
       "\t 250\\\\\n",
       "\t 350\\\\\n",
       "\t 465\\\\\n",
       "\\end{tabular}\n"
      ],
      "text/markdown": [
       "1. 58\n",
       "2. 90\n",
       "3. 115\n",
       "4. 150\n",
       "5. 165\n",
       "6. 170\n",
       "7. 190\n",
       "8. 245\n",
       "9. 250\n",
       "10. 350\n",
       "11. 465\n",
       "\n",
       "\n"
      ],
      "text/plain": [
       "      SAIRAST\n",
       " [1,]      58\n",
       " [2,]      90\n",
       " [3,]     115\n",
       " [4,]     150\n",
       " [5,]     165\n",
       " [6,]     170\n",
       " [7,]     190\n",
       " [8,]     245\n",
       " [9,]     250\n",
       "[10,]     350\n",
       "[11,]     465"
      ]
     },
     "metadata": {},
     "output_type": "display_data"
    }
   ],
   "source": [
    "sairast"
   ]
  },
  {
   "cell_type": "code",
   "execution_count": 30,
   "metadata": {
    "collapsed": false
   },
   "outputs": [],
   "source": [
    "n = nrow(sairast)"
   ]
  },
  {
   "cell_type": "code",
   "execution_count": 31,
   "metadata": {
    "collapsed": false
   },
   "outputs": [
    {
     "data": {
      "text/html": [
       "11"
      ],
      "text/latex": [
       "11"
      ],
      "text/markdown": [
       "11"
      ],
      "text/plain": [
       "[1] 11"
      ]
     },
     "metadata": {},
     "output_type": "display_data"
    }
   ],
   "source": [
    "n"
   ]
  },
  {
   "cell_type": "code",
   "execution_count": 32,
   "metadata": {
    "collapsed": true
   },
   "outputs": [],
   "source": [
    "x = matrix(c(rep(1,n), kulutus), ncol)"
   ]
  },
  {
   "cell_type": "code",
   "execution_count": 33,
   "metadata": {
    "collapsed": false
   },
   "outputs": [
    {
     "data": {
      "text/html": [
       "<table>\n",
       "<tbody>\n",
       "\t<tr><td>1</td></tr>\n",
       "\t<tr><td>1</td></tr>\n",
       "\t<tr><td>1</td></tr>\n",
       "\t<tr><td>1</td></tr>\n",
       "\t<tr><td>1</td></tr>\n",
       "\t<tr><td>1</td></tr>\n",
       "\t<tr><td>1</td></tr>\n",
       "\t<tr><td>1</td></tr>\n",
       "\t<tr><td>1</td></tr>\n",
       "\t<tr><td>1</td></tr>\n",
       "\t<tr><td>1</td></tr>\n",
       "\t<tr><td>220</td></tr>\n",
       "\t<tr><td>250</td></tr>\n",
       "\t<tr><td>310</td></tr>\n",
       "\t<tr><td>510</td></tr>\n",
       "\t<tr><td>380</td></tr>\n",
       "\t<tr><td>455</td></tr>\n",
       "\t<tr><td>1280</td></tr>\n",
       "\t<tr><td>460</td></tr>\n",
       "\t<tr><td>530</td></tr>\n",
       "\t<tr><td>1115</td></tr>\n",
       "\t<tr><td>1145</td></tr>\n",
       "</tbody>\n",
       "</table>\n"
      ],
      "text/latex": [
       "\\begin{tabular}{l}\n",
       "\t 1\\\\\n",
       "\t 1\\\\\n",
       "\t 1\\\\\n",
       "\t 1\\\\\n",
       "\t 1\\\\\n",
       "\t 1\\\\\n",
       "\t 1\\\\\n",
       "\t 1\\\\\n",
       "\t 1\\\\\n",
       "\t 1\\\\\n",
       "\t 1\\\\\n",
       "\t 220\\\\\n",
       "\t 250\\\\\n",
       "\t 310\\\\\n",
       "\t 510\\\\\n",
       "\t 380\\\\\n",
       "\t 455\\\\\n",
       "\t 1280\\\\\n",
       "\t 460\\\\\n",
       "\t 530\\\\\n",
       "\t 1115\\\\\n",
       "\t 1145\\\\\n",
       "\\end{tabular}\n"
      ],
      "text/markdown": [
       "1. 1\n",
       "2. 1\n",
       "3. 1\n",
       "4. 1\n",
       "5. 1\n",
       "6. 1\n",
       "7. 1\n",
       "8. 1\n",
       "9. 1\n",
       "10. 1\n",
       "11. 1\n",
       "12. 220\n",
       "13. 250\n",
       "14. 310\n",
       "15. 510\n",
       "16. 380\n",
       "17. 455\n",
       "18. 1280\n",
       "19. 460\n",
       "20. 530\n",
       "21. 1115\n",
       "22. 1145\n",
       "\n",
       "\n"
      ],
      "text/plain": [
       "      [,1]\n",
       " [1,]    1\n",
       " [2,]    1\n",
       " [3,]    1\n",
       " [4,]    1\n",
       " [5,]    1\n",
       " [6,]    1\n",
       " [7,]    1\n",
       " [8,]    1\n",
       " [9,]    1\n",
       "[10,]    1\n",
       "[11,]    1\n",
       "[12,]  220\n",
       "[13,]  250\n",
       "[14,]  310\n",
       "[15,]  510\n",
       "[16,]  380\n",
       "[17,]  455\n",
       "[18,] 1280\n",
       "[19,]  460\n",
       "[20,]  530\n",
       "[21,] 1115\n",
       "[22,] 1145"
      ]
     },
     "metadata": {},
     "output_type": "display_data"
    }
   ],
   "source": [
    "x"
   ]
  },
  {
   "cell_type": "code",
   "execution_count": 47,
   "metadata": {
    "collapsed": false
   },
   "outputs": [],
   "source": [
    "x <- cbind(sairast, Vakio)"
   ]
  },
  {
   "cell_type": "code",
   "execution_count": 48,
   "metadata": {
    "collapsed": false
   },
   "outputs": [
    {
     "data": {
      "text/html": [
       "<table>\n",
       "<thead><tr><th scope=col>SAIRAST</th><th scope=col>Vakio</th></tr></thead>\n",
       "<tbody>\n",
       "\t<tr><td>58</td><td> 1</td></tr>\n",
       "\t<tr><td>90</td><td> 1</td></tr>\n",
       "\t<tr><td>115</td><td>  1</td></tr>\n",
       "\t<tr><td>150</td><td>  1</td></tr>\n",
       "\t<tr><td>165</td><td>  1</td></tr>\n",
       "\t<tr><td>170</td><td>  1</td></tr>\n",
       "\t<tr><td>190</td><td>  1</td></tr>\n",
       "\t<tr><td>245</td><td>  1</td></tr>\n",
       "\t<tr><td>250</td><td>  1</td></tr>\n",
       "\t<tr><td>350</td><td>  1</td></tr>\n",
       "\t<tr><td>465</td><td>  1</td></tr>\n",
       "</tbody>\n",
       "</table>\n"
      ],
      "text/latex": [
       "\\begin{tabular}{ll}\n",
       " SAIRAST & Vakio\\\\\n",
       "\\hline\n",
       "\t 58 &  1\\\\\n",
       "\t 90 &  1\\\\\n",
       "\t 115 &   1\\\\\n",
       "\t 150 &   1\\\\\n",
       "\t 165 &   1\\\\\n",
       "\t 170 &   1\\\\\n",
       "\t 190 &   1\\\\\n",
       "\t 245 &   1\\\\\n",
       "\t 250 &   1\\\\\n",
       "\t 350 &   1\\\\\n",
       "\t 465 &   1\\\\\n",
       "\\end{tabular}\n"
      ],
      "text/markdown": [
       "1. 58\n",
       "2. 90\n",
       "3. 115\n",
       "4. 150\n",
       "5. 165\n",
       "6. 170\n",
       "7. 190\n",
       "8. 245\n",
       "9. 250\n",
       "10. 350\n",
       "11. 465\n",
       "12. 1\n",
       "13. 1\n",
       "14. 1\n",
       "15. 1\n",
       "16. 1\n",
       "17. 1\n",
       "18. 1\n",
       "19. 1\n",
       "20. 1\n",
       "21. 1\n",
       "22. 1\n",
       "\n",
       "\n"
      ],
      "text/plain": [
       "      SAIRAST Vakio\n",
       " [1,]      58     1\n",
       " [2,]      90     1\n",
       " [3,]     115     1\n",
       " [4,]     150     1\n",
       " [5,]     165     1\n",
       " [6,]     170     1\n",
       " [7,]     190     1\n",
       " [8,]     245     1\n",
       " [9,]     250     1\n",
       "[10,]     350     1\n",
       "[11,]     465     1"
      ]
     },
     "metadata": {},
     "output_type": "display_data"
    }
   ],
   "source": [
    "x"
   ]
  },
  {
   "cell_type": "code",
   "execution_count": 42,
   "metadata": {
    "collapsed": false
   },
   "outputs": [
    {
     "data": {
      "text/html": [
       "<table>\n",
       "<thead><tr><th scope=col>SAIRAST</th><th scope=col></th></tr></thead>\n",
       "<tbody>\n",
       "\t<tr><td>90</td><td> 1</td></tr>\n",
       "\t<tr><td>115</td><td>  1</td></tr>\n",
       "\t<tr><td>150</td><td>  1</td></tr>\n",
       "\t<tr><td>165</td><td>  1</td></tr>\n",
       "\t<tr><td>170</td><td>  1</td></tr>\n",
       "\t<tr><td>190</td><td>  1</td></tr>\n",
       "\t<tr><td>245</td><td>  1</td></tr>\n",
       "\t<tr><td>250</td><td>  1</td></tr>\n",
       "\t<tr><td>350</td><td>  1</td></tr>\n",
       "\t<tr><td>465</td><td>  1</td></tr>\n",
       "</tbody>\n",
       "</table>\n"
      ],
      "text/latex": [
       "\\begin{tabular}{ll}\n",
       " SAIRAST & \\\\\n",
       "\\hline\n",
       "\t 90 &  1\\\\\n",
       "\t 115 &   1\\\\\n",
       "\t 150 &   1\\\\\n",
       "\t 165 &   1\\\\\n",
       "\t 170 &   1\\\\\n",
       "\t 190 &   1\\\\\n",
       "\t 245 &   1\\\\\n",
       "\t 250 &   1\\\\\n",
       "\t 350 &   1\\\\\n",
       "\t 465 &   1\\\\\n",
       "\\end{tabular}\n"
      ],
      "text/markdown": [
       "1. 90\n",
       "2. 115\n",
       "3. 150\n",
       "4. 165\n",
       "5. 170\n",
       "6. 190\n",
       "7. 245\n",
       "8. 250\n",
       "9. 350\n",
       "10. 465\n",
       "11. 1\n",
       "12. 1\n",
       "13. 1\n",
       "14. 1\n",
       "15. 1\n",
       "16. 1\n",
       "17. 1\n",
       "18. 1\n",
       "19. 1\n",
       "20. 1\n",
       "\n",
       "\n"
      ],
      "text/plain": [
       "      SAIRAST  \n",
       " [1,]      90 1\n",
       " [2,]     115 1\n",
       " [3,]     150 1\n",
       " [4,]     165 1\n",
       " [5,]     170 1\n",
       " [6,]     190 1\n",
       " [7,]     245 1\n",
       " [8,]     250 1\n",
       " [9,]     350 1\n",
       "[10,]     465 1"
      ]
     },
     "metadata": {},
     "output_type": "display_data"
    }
   ],
   "source": [
    "x[-1,]"
   ]
  },
  {
   "cell_type": "code",
   "execution_count": 43,
   "metadata": {
    "collapsed": true
   },
   "outputs": [],
   "source": [
    "y = kulutus"
   ]
  },
  {
   "cell_type": "code",
   "execution_count": 44,
   "metadata": {
    "collapsed": false
   },
   "outputs": [
    {
     "data": {
      "text/html": [
       "<table>\n",
       "<thead><tr><th scope=col>KULUTUS</th></tr></thead>\n",
       "<tbody>\n",
       "\t<tr><td>220</td></tr>\n",
       "\t<tr><td>250</td></tr>\n",
       "\t<tr><td>310</td></tr>\n",
       "\t<tr><td>510</td></tr>\n",
       "\t<tr><td>380</td></tr>\n",
       "\t<tr><td>455</td></tr>\n",
       "\t<tr><td>1280</td></tr>\n",
       "\t<tr><td>460</td></tr>\n",
       "\t<tr><td>530</td></tr>\n",
       "\t<tr><td>1115</td></tr>\n",
       "\t<tr><td>1145</td></tr>\n",
       "</tbody>\n",
       "</table>\n"
      ],
      "text/latex": [
       "\\begin{tabular}{l}\n",
       " KULUTUS\\\\\n",
       "\\hline\n",
       "\t 220\\\\\n",
       "\t 250\\\\\n",
       "\t 310\\\\\n",
       "\t 510\\\\\n",
       "\t 380\\\\\n",
       "\t 455\\\\\n",
       "\t 1280\\\\\n",
       "\t 460\\\\\n",
       "\t 530\\\\\n",
       "\t 1115\\\\\n",
       "\t 1145\\\\\n",
       "\\end{tabular}\n"
      ],
      "text/markdown": [
       "1. 220\n",
       "2. 250\n",
       "3. 310\n",
       "4. 510\n",
       "5. 380\n",
       "6. 455\n",
       "7. 1280\n",
       "8. 460\n",
       "9. 530\n",
       "10. 1115\n",
       "11. 1145\n",
       "\n",
       "\n"
      ],
      "text/plain": [
       "      KULUTUS\n",
       " [1,]     220\n",
       " [2,]     250\n",
       " [3,]     310\n",
       " [4,]     510\n",
       " [5,]     380\n",
       " [6,]     455\n",
       " [7,]    1280\n",
       " [8,]     460\n",
       " [9,]     530\n",
       "[10,]    1115\n",
       "[11,]    1145"
      ]
     },
     "metadata": {},
     "output_type": "display_data"
    }
   ],
   "source": [
    "y"
   ]
  },
  {
   "cell_type": "code",
   "execution_count": 45,
   "metadata": {
    "collapsed": true
   },
   "outputs": [],
   "source": [
    "Vakio <- rep(1,n)"
   ]
  },
  {
   "cell_type": "code",
   "execution_count": 49,
   "metadata": {
    "collapsed": false
   },
   "outputs": [
    {
     "data": {
      "text/html": [
       "<table>\n",
       "<thead><tr><th scope=col>KULUTUS</th></tr></thead>\n",
       "<tbody>\n",
       "\t<tr><td>220</td></tr>\n",
       "\t<tr><td>250</td></tr>\n",
       "\t<tr><td>310</td></tr>\n",
       "\t<tr><td>510</td></tr>\n",
       "\t<tr><td>380</td></tr>\n",
       "\t<tr><td>455</td></tr>\n",
       "\t<tr><td>1280</td></tr>\n",
       "\t<tr><td>460</td></tr>\n",
       "\t<tr><td>530</td></tr>\n",
       "\t<tr><td>1115</td></tr>\n",
       "\t<tr><td>1145</td></tr>\n",
       "</tbody>\n",
       "</table>\n"
      ],
      "text/latex": [
       "\\begin{tabular}{l}\n",
       " KULUTUS\\\\\n",
       "\\hline\n",
       "\t 220\\\\\n",
       "\t 250\\\\\n",
       "\t 310\\\\\n",
       "\t 510\\\\\n",
       "\t 380\\\\\n",
       "\t 455\\\\\n",
       "\t 1280\\\\\n",
       "\t 460\\\\\n",
       "\t 530\\\\\n",
       "\t 1115\\\\\n",
       "\t 1145\\\\\n",
       "\\end{tabular}\n"
      ],
      "text/markdown": [
       "1. 220\n",
       "2. 250\n",
       "3. 310\n",
       "4. 510\n",
       "5. 380\n",
       "6. 455\n",
       "7. 1280\n",
       "8. 460\n",
       "9. 530\n",
       "10. 1115\n",
       "11. 1145\n",
       "\n",
       "\n"
      ],
      "text/plain": [
       "      KULUTUS\n",
       " [1,]     220\n",
       " [2,]     250\n",
       " [3,]     310\n",
       " [4,]     510\n",
       " [5,]     380\n",
       " [6,]     455\n",
       " [7,]    1280\n",
       " [8,]     460\n",
       " [9,]     530\n",
       "[10,]    1115\n",
       "[11,]    1145"
      ]
     },
     "metadata": {},
     "output_type": "display_data"
    }
   ],
   "source": [
    "y"
   ]
  },
  {
   "cell_type": "code",
   "execution_count": 50,
   "metadata": {
    "collapsed": false
   },
   "outputs": [
    {
     "data": {
      "text/html": [
       "<table>\n",
       "<thead><tr><th scope=col>SAIRAST</th><th scope=col>Vakio</th></tr></thead>\n",
       "<tbody>\n",
       "\t<tr><td>58</td><td> 1</td></tr>\n",
       "\t<tr><td>90</td><td> 1</td></tr>\n",
       "\t<tr><td>115</td><td>  1</td></tr>\n",
       "\t<tr><td>150</td><td>  1</td></tr>\n",
       "\t<tr><td>165</td><td>  1</td></tr>\n",
       "\t<tr><td>170</td><td>  1</td></tr>\n",
       "\t<tr><td>190</td><td>  1</td></tr>\n",
       "\t<tr><td>245</td><td>  1</td></tr>\n",
       "\t<tr><td>250</td><td>  1</td></tr>\n",
       "\t<tr><td>350</td><td>  1</td></tr>\n",
       "\t<tr><td>465</td><td>  1</td></tr>\n",
       "</tbody>\n",
       "</table>\n"
      ],
      "text/latex": [
       "\\begin{tabular}{ll}\n",
       " SAIRAST & Vakio\\\\\n",
       "\\hline\n",
       "\t 58 &  1\\\\\n",
       "\t 90 &  1\\\\\n",
       "\t 115 &   1\\\\\n",
       "\t 150 &   1\\\\\n",
       "\t 165 &   1\\\\\n",
       "\t 170 &   1\\\\\n",
       "\t 190 &   1\\\\\n",
       "\t 245 &   1\\\\\n",
       "\t 250 &   1\\\\\n",
       "\t 350 &   1\\\\\n",
       "\t 465 &   1\\\\\n",
       "\\end{tabular}\n"
      ],
      "text/markdown": [
       "1. 58\n",
       "2. 90\n",
       "3. 115\n",
       "4. 150\n",
       "5. 165\n",
       "6. 170\n",
       "7. 190\n",
       "8. 245\n",
       "9. 250\n",
       "10. 350\n",
       "11. 465\n",
       "12. 1\n",
       "13. 1\n",
       "14. 1\n",
       "15. 1\n",
       "16. 1\n",
       "17. 1\n",
       "18. 1\n",
       "19. 1\n",
       "20. 1\n",
       "21. 1\n",
       "22. 1\n",
       "\n",
       "\n"
      ],
      "text/plain": [
       "      SAIRAST Vakio\n",
       " [1,]      58     1\n",
       " [2,]      90     1\n",
       " [3,]     115     1\n",
       " [4,]     150     1\n",
       " [5,]     165     1\n",
       " [6,]     170     1\n",
       " [7,]     190     1\n",
       " [8,]     245     1\n",
       " [9,]     250     1\n",
       "[10,]     350     1\n",
       "[11,]     465     1"
      ]
     },
     "metadata": {},
     "output_type": "display_data"
    }
   ],
   "source": [
    "x"
   ]
  },
  {
   "cell_type": "code",
   "execution_count": 51,
   "metadata": {
    "collapsed": true
   },
   "outputs": [],
   "source": [
    "data1 <- cbind(y, x)"
   ]
  },
  {
   "cell_type": "code",
   "execution_count": 76,
   "metadata": {
    "collapsed": false
   },
   "outputs": [],
   "source": [
    "data1 <- data1[,c(1,2)]"
   ]
  },
  {
   "cell_type": "code",
   "execution_count": 89,
   "metadata": {
    "collapsed": false
   },
   "outputs": [],
   "source": [
    "sovite1 <- lm(SAIRAST~KULUTUS, data=data.frame(data1))"
   ]
  },
  {
   "cell_type": "code",
   "execution_count": 90,
   "metadata": {
    "collapsed": false
   },
   "outputs": [
    {
     "data": {
      "text/html": [
       "<table>\n",
       "<thead><tr><th></th><th scope=col>KULUTUS</th><th scope=col>SAIRAST</th></tr></thead>\n",
       "<tbody>\n",
       "\t<tr><th scope=row>1</th><td>220</td><td> 58</td></tr>\n",
       "\t<tr><th scope=row>2</th><td>250</td><td> 90</td></tr>\n",
       "\t<tr><th scope=row>3</th><td>310</td><td>115</td></tr>\n",
       "\t<tr><th scope=row>4</th><td>510</td><td>150</td></tr>\n",
       "\t<tr><th scope=row>5</th><td>380</td><td>165</td></tr>\n",
       "\t<tr><th scope=row>6</th><td>455</td><td>170</td></tr>\n",
       "\t<tr><th scope=row>7</th><td>1280</td><td> 190</td></tr>\n",
       "\t<tr><th scope=row>8</th><td>460</td><td>245</td></tr>\n",
       "\t<tr><th scope=row>9</th><td>530</td><td>250</td></tr>\n",
       "\t<tr><th scope=row>10</th><td>1115</td><td> 350</td></tr>\n",
       "\t<tr><th scope=row>11</th><td>1145</td><td> 465</td></tr>\n",
       "</tbody>\n",
       "</table>\n"
      ],
      "text/latex": [
       "\\begin{tabular}{r|ll}\n",
       "  & KULUTUS & SAIRAST\\\\\n",
       "\\hline\n",
       "\t1 & 220 &  58\\\\\n",
       "\t2 & 250 &  90\\\\\n",
       "\t3 & 310 & 115\\\\\n",
       "\t4 & 510 & 150\\\\\n",
       "\t5 & 380 & 165\\\\\n",
       "\t6 & 455 & 170\\\\\n",
       "\t7 & 1280 &  190\\\\\n",
       "\t8 & 460 & 245\\\\\n",
       "\t9 & 530 & 250\\\\\n",
       "\t10 & 1115 &  350\\\\\n",
       "\t11 & 1145 &  465\\\\\n",
       "\\end{tabular}\n"
      ],
      "text/plain": [
       "   KULUTUS SAIRAST\n",
       "1      220      58\n",
       "2      250      90\n",
       "3      310     115\n",
       "4      510     150\n",
       "5      380     165\n",
       "6      455     170\n",
       "7     1280     190\n",
       "8      460     245\n",
       "9      530     250\n",
       "10    1115     350\n",
       "11    1145     465"
      ]
     },
     "metadata": {},
     "output_type": "display_data"
    }
   ],
   "source": [
    "data.frame(data1)"
   ]
  },
  {
   "cell_type": "code",
   "execution_count": 92,
   "metadata": {
    "collapsed": false
   },
   "outputs": [
    {
     "data": {
      "text/plain": [
       "\n",
       "Call:\n",
       "lm(formula = SAIRAST ~ KULUTUS, data = data.frame(data1))\n",
       "\n",
       "Residuals:\n",
       "     Min       1Q   Median       3Q      Max \n",
       "-169.016  -32.813    0.004   45.804  136.914 \n",
       "\n",
       "Coefficients:\n",
       "            Estimate Std. Error t value Pr(>|t|)   \n",
       "(Intercept) 65.74886   48.95871   1.343  0.21217   \n",
       "KULUTUS      0.22912    0.06921   3.310  0.00908 **\n",
       "---\n",
       "Signif. codes:  0 ‘***’ 0.001 ‘**’ 0.01 ‘*’ 0.05 ‘.’ 0.1 ‘ ’ 1\n",
       "\n",
       "Residual standard error: 84.13 on 9 degrees of freedom\n",
       "Multiple R-squared:  0.549,\tAdjusted R-squared:  0.4989 \n",
       "F-statistic: 10.96 on 1 and 9 DF,  p-value: 0.009081\n"
      ]
     },
     "metadata": {},
     "output_type": "display_data"
    }
   ],
   "source": [
    "summary(sovite1)"
   ]
  },
  {
   "cell_type": "code",
   "execution_count": 64,
   "metadata": {
    "collapsed": false
   },
   "outputs": [
    {
     "ename": "ERROR",
     "evalue": "Error in xy.coords(x, y, xlabel, ylabel, log): 'x' and 'y' lengths differ\n",
     "output_type": "error",
     "traceback": [
      "Error in xy.coords(x, y, xlabel, ylabel, log): 'x' and 'y' lengths differ\nTraceback:\n",
      "1. plot(y, x[0])",
      "2. plot.default(y, x[0])",
      "3. xy.coords(x, y, xlabel, ylabel, log)",
      "4. stop(\"'x' and 'y' lengths differ\")"
     ]
    }
   ],
   "source": [
    "plot(y, x[0])"
   ]
  },
  {
   "cell_type": "code",
   "execution_count": 62,
   "metadata": {
    "collapsed": false
   },
   "outputs": [
    {
     "data": {
      "text/html": [
       "11"
      ],
      "text/latex": [
       "11"
      ],
      "text/markdown": [
       "11"
      ],
      "text/plain": [
       "[1] 11"
      ]
     },
     "metadata": {},
     "output_type": "display_data"
    }
   ],
   "source": [
    "nrow(y)"
   ]
  },
  {
   "cell_type": "code",
   "execution_count": 63,
   "metadata": {
    "collapsed": false
   },
   "outputs": [
    {
     "data": {
      "text/html": [
       "11"
      ],
      "text/latex": [
       "11"
      ],
      "text/markdown": [
       "11"
      ],
      "text/plain": [
       "[1] 11"
      ]
     },
     "metadata": {},
     "output_type": "display_data"
    }
   ],
   "source": [
    "nrow(x)"
   ]
  },
  {
   "cell_type": "code",
   "execution_count": 102,
   "metadata": {
    "collapsed": false
   },
   "outputs": [
    {
     "data": {
      "image/png": "[encoded data removed]",
      "text/plain": [
       "plot without title"
      ]
     },
     "metadata": {},
     "output_type": "display_data"
    }
   ],
   "source": [
    "plot(data1[,c(0,1)])\n",
    "abline(sovite1, lwd=2)"
   ]
  },
  {
   "cell_type": "code",
   "execution_count": 106,
   "metadata": {
    "collapsed": false
   },
   "outputs": [
    {
     "data": {
      "image/png": "[encoded data removed]",
      "text/plain": [
       "plot without title"
      ]
     },
     "metadata": {},
     "output_type": "display_data"
    }
   ],
   "source": [
    "plot(data1[,c(1,2)])\n",
    "abline(lm(SAIRAST ~ KULUTUS, data=data.frame(data1)))"
   ]
  },
  {
   "cell_type": "code",
   "execution_count": 129,
   "metadata": {
    "collapsed": false
   },
   "outputs": [
    {
     "data": {
      "text/html": [
       "<strong>KULUTUS:</strong> 0.229115337755516"
      ],
      "text/latex": [
       "\\textbf{KULUTUS:} 0.229115337755516"
      ],
      "text/markdown": [
       "**KULUTUS:** 0.229115337755516"
      ],
      "text/plain": [
       "  KULUTUS \n",
       "0.2291153 "
      ]
     },
     "metadata": {},
     "output_type": "display_data"
    }
   ],
   "source": [
    "sovite1$coefficients[2]"
   ]
  },
  {
   "cell_type": "code",
   "execution_count": 124,
   "metadata": {
    "collapsed": false
   },
   "outputs": [],
   "source": [
    "s2_coef2 <- sum(coef2^2)/(n-p)"
   ]
  },
  {
   "cell_type": "code",
   "execution_count": 110,
   "metadata": {
    "collapsed": true
   },
   "outputs": [],
   "source": [
    "n <- nrow(data1)"
   ]
  },
  {
   "cell_type": "code",
   "execution_count": 111,
   "metadata": {
    "collapsed": false
   },
   "outputs": [
    {
     "data": {
      "text/html": [
       "11"
      ],
      "text/latex": [
       "11"
      ],
      "text/markdown": [
       "11"
      ],
      "text/plain": [
       "[1] 11"
      ]
     },
     "metadata": {},
     "output_type": "display_data"
    }
   ],
   "source": [
    "n"
   ]
  },
  {
   "cell_type": "code",
   "execution_count": 112,
   "metadata": {
    "collapsed": true
   },
   "outputs": [],
   "source": [
    "p <- ncol(data1)"
   ]
  },
  {
   "cell_type": "code",
   "execution_count": 113,
   "metadata": {
    "collapsed": false
   },
   "outputs": [
    {
     "data": {
      "text/html": [
       "2"
      ],
      "text/latex": [
       "2"
      ],
      "text/markdown": [
       "2"
      ],
      "text/plain": [
       "[1] 2"
      ]
     },
     "metadata": {},
     "output_type": "display_data"
    }
   ],
   "source": [
    "p"
   ]
  },
  {
   "cell_type": "code",
   "execution_count": 116,
   "metadata": {
    "collapsed": false
   },
   "outputs": [
    {
     "data": {
      "text/html": [
       "7077.79435566577"
      ],
      "text/latex": [
       "7077.79435566577"
      ],
      "text/markdown": [
       "7077.79435566577"
      ],
      "text/plain": [
       "[1] 7077.794"
      ]
     },
     "metadata": {},
     "output_type": "display_data"
    }
   ],
   "source": [
    "s2"
   ]
  },
  {
   "cell_type": "code",
   "execution_count": 119,
   "metadata": {
    "collapsed": false
   },
   "outputs": [
    {
     "data": {
      "text/html": [
       "<dl class=dl-horizontal>\n",
       "</dl>\n"
      ],
      "text/latex": [
       "\\begin{description*}\n",
       "\\end{description*}\n"
      ],
      "text/markdown": [
       "\n",
       "\n"
      ],
      "text/plain": [
       "named numeric(0)"
      ]
     },
     "metadata": {},
     "output_type": "display_data"
    }
   ],
   "source": [
    "coef1"
   ]
  },
  {
   "cell_type": "code",
   "execution_count": 120,
   "metadata": {
    "collapsed": false
   },
   "outputs": [
    {
     "data": {
      "text/html": [
       "<strong>(Intercept):</strong> 65.7488570215489"
      ],
      "text/latex": [
       "\\textbf{(Intercept):} 65.7488570215489"
      ],
      "text/markdown": [
       "**(Intercept):** 65.7488570215489"
      ],
      "text/plain": [
       "(Intercept) \n",
       "   65.74886 "
      ]
     },
     "metadata": {},
     "output_type": "display_data"
    }
   ],
   "source": [
    "coef2\n"
   ]
  },
  {
   "cell_type": "code",
   "execution_count": 125,
   "metadata": {
    "collapsed": false
   },
   "outputs": [
    {
     "data": {
      "text/html": [
       "480.323577737786"
      ],
      "text/latex": [
       "480.323577737786"
      ],
      "text/markdown": [
       "480.323577737786"
      ],
      "text/plain": [
       "[1] 480.3236"
      ]
     },
     "metadata": {},
     "output_type": "display_data"
    }
   ],
   "source": [
    "s2_coef1"
   ]
  },
  {
   "cell_type": "code",
   "execution_count": 126,
   "metadata": {
    "collapsed": false
   },
   "outputs": [
    {
     "data": {
      "text/html": [
       "0.0058326486660916"
      ],
      "text/latex": [
       "0.0058326486660916"
      ],
      "text/markdown": [
       "0.0058326486660916"
      ],
      "text/plain": [
       "[1] 0.005832649"
      ]
     },
     "metadata": {},
     "output_type": "display_data"
    }
   ],
   "source": [
    "s2_coef2"
   ]
  },
  {
   "cell_type": "code",
   "execution_count": 135,
   "metadata": {
    "collapsed": false
   },
   "outputs": [
    {
     "data": {
      "text/plain": [
       "\n",
       "Call:\n",
       "lm(formula = SAIRAST ~ KULUTUS, data = data.frame(data1))\n",
       "\n",
       "Residuals:\n",
       "     Min       1Q   Median       3Q      Max \n",
       "-169.016  -32.813    0.004   45.804  136.914 \n",
       "\n",
       "Coefficients:\n",
       "            Estimate Std. Error t value Pr(>|t|)   \n",
       "(Intercept) 65.74886   48.95871   1.343  0.21217   \n",
       "KULUTUS      0.22912    0.06921   3.310  0.00908 **\n",
       "---\n",
       "Signif. codes:  0 ‘***’ 0.001 ‘**’ 0.01 ‘*’ 0.05 ‘.’ 0.1 ‘ ’ 1\n",
       "\n",
       "Residual standard error: 84.13 on 9 degrees of freedom\n",
       "Multiple R-squared:  0.549,\tAdjusted R-squared:  0.4989 \n",
       "F-statistic: 10.96 on 1 and 9 DF,  p-value: 0.009081\n"
      ]
     },
     "metadata": {},
     "output_type": "display_data"
    }
   ],
   "source": [
    "summary(sovite1)"
   ]
  },
  {
   "cell_type": "code",
   "execution_count": 247,
   "metadata": {
    "collapsed": false
   },
   "outputs": [],
   "source": [
    "data1 <- data1[,c(1,3,2)]"
   ]
  },
  {
   "cell_type": "code",
   "execution_count": 248,
   "metadata": {
    "collapsed": false
   },
   "outputs": [
    {
     "data": {
      "text/html": [
       "<table>\n",
       "<thead><tr><th scope=col></th><th scope=col>KULUTUS</th><th scope=col>SAIRAST</th></tr></thead>\n",
       "<tbody>\n",
       "\t<tr><td>  1</td><td>220</td><td> 58</td></tr>\n",
       "\t<tr><td>  1</td><td>250</td><td> 90</td></tr>\n",
       "\t<tr><td>  1</td><td>310</td><td>115</td></tr>\n",
       "\t<tr><td>  1</td><td>510</td><td>150</td></tr>\n",
       "\t<tr><td>  1</td><td>380</td><td>165</td></tr>\n",
       "\t<tr><td>  1</td><td>455</td><td>170</td></tr>\n",
       "\t<tr><td>   1</td><td>1280</td><td> 190</td></tr>\n",
       "\t<tr><td>  1</td><td>460</td><td>245</td></tr>\n",
       "\t<tr><td>  1</td><td>530</td><td>250</td></tr>\n",
       "\t<tr><td>   1</td><td>1115</td><td> 350</td></tr>\n",
       "\t<tr><td>   1</td><td>1145</td><td> 465</td></tr>\n",
       "</tbody>\n",
       "</table>\n"
      ],
      "text/latex": [
       "\\begin{tabular}{lll}\n",
       "  & KULUTUS & SAIRAST\\\\\n",
       "\\hline\n",
       "\t   1 & 220 &  58\\\\\n",
       "\t   1 & 250 &  90\\\\\n",
       "\t   1 & 310 & 115\\\\\n",
       "\t   1 & 510 & 150\\\\\n",
       "\t   1 & 380 & 165\\\\\n",
       "\t   1 & 455 & 170\\\\\n",
       "\t    1 & 1280 &  190\\\\\n",
       "\t   1 & 460 & 245\\\\\n",
       "\t   1 & 530 & 250\\\\\n",
       "\t    1 & 1115 &  350\\\\\n",
       "\t    1 & 1145 &  465\\\\\n",
       "\\end{tabular}\n"
      ],
      "text/markdown": [
       "1. 1\n",
       "2. 1\n",
       "3. 1\n",
       "4. 1\n",
       "5. 1\n",
       "6. 1\n",
       "7. 1\n",
       "8. 1\n",
       "9. 1\n",
       "10. 1\n",
       "11. 1\n",
       "12. 220\n",
       "13. 250\n",
       "14. 310\n",
       "15. 510\n",
       "16. 380\n",
       "17. 455\n",
       "18. 1280\n",
       "19. 460\n",
       "20. 530\n",
       "21. 1115\n",
       "22. 1145\n",
       "23. 58\n",
       "24. 90\n",
       "25. 115\n",
       "26. 150\n",
       "27. 165\n",
       "28. 170\n",
       "29. 190\n",
       "30. 245\n",
       "31. 250\n",
       "32. 350\n",
       "33. 465\n",
       "\n",
       "\n"
      ],
      "text/plain": [
       "        KULUTUS SAIRAST\n",
       " [1,] 1     220      58\n",
       " [2,] 1     250      90\n",
       " [3,] 1     310     115\n",
       " [4,] 1     510     150\n",
       " [5,] 1     380     165\n",
       " [6,] 1     455     170\n",
       " [7,] 1    1280     190\n",
       " [8,] 1     460     245\n",
       " [9,] 1     530     250\n",
       "[10,] 1    1115     350\n",
       "[11,] 1    1145     465"
      ]
     },
     "metadata": {},
     "output_type": "display_data"
    }
   ],
   "source": [
    "data1"
   ]
  },
  {
   "cell_type": "code",
   "execution_count": 249,
   "metadata": {
    "collapsed": false
   },
   "outputs": [
    {
     "name": "stdout",
     "output_type": "stream",
     "text": [
      "[1] \"Vakion luottamusväli\"\n"
     ]
    },
    {
     "data": {
      "text/html": [
       "<dl class=dl-horizontal>\n",
       "\t<dt>2.5%</dt>\n",
       "\t\t<dd>-33.9467354962028</dd>\n",
       "\t<dt>97.5%</dt>\n",
       "\t\t<dd>164.721560101779</dd>\n",
       "</dl>\n"
      ],
      "text/latex": [
       "\\begin{description*}\n",
       "\\item[2.5\\textbackslash{}\\%] -33.9467354962028\n",
       "\\item[97.5\\textbackslash{}\\%] 164.721560101779\n",
       "\\end{description*}\n"
      ],
      "text/markdown": [
       "2.5%\n",
       ":   -33.946735496202897.5%\n",
       ":   164.721560101779\n",
       "\n"
      ],
      "text/plain": [
       "     2.5%     97.5% \n",
       "-33.94674 164.72156 "
      ]
     },
     "metadata": {},
     "output_type": "display_data"
    },
    {
     "name": "stdout",
     "output_type": "stream",
     "text": [
      "[1] \"Kulutuksen luottamusväli\"\n"
     ]
    },
    {
     "data": {
      "text/html": [
       "<dl class=dl-horizontal>\n",
       "\t<dt>2.5%</dt>\n",
       "\t\t<dd>0.0234757759455716</dd>\n",
       "\t<dt>97.5%</dt>\n",
       "\t\t<dd>0.404633994250145</dd>\n",
       "</dl>\n"
      ],
      "text/latex": [
       "\\begin{description*}\n",
       "\\item[2.5\\textbackslash{}\\%] 0.0234757759455716\n",
       "\\item[97.5\\textbackslash{}\\%] 0.404633994250145\n",
       "\\end{description*}\n"
      ],
      "text/markdown": [
       "2.5%\n",
       ":   0.023475775945571697.5%\n",
       ":   0.404633994250145\n",
       "\n"
      ],
      "text/plain": [
       "      2.5%      97.5% \n",
       "0.02347578 0.40463399 "
      ]
     },
     "metadata": {},
     "output_type": "display_data"
    }
   ],
   "source": [
    "k <- 2000\n",
    "set.seed(123)\n",
    "bootmat <- matrix(NA,nrow=k,ncol=3)\n",
    "X <- data1\n",
    "for(i in 1:k){\n",
    "    res.tmp <- sovite1$residuals\n",
    "    res.boot <- sample(res.tmp,replace=TRUE)\n",
    "    yb <- sovite1$fitted.values + res.boot\n",
    "    bb <- solve(t(X)%*%X)%*%t(X)%*%yb\n",
    "    bootmat[i,] <- bb\n",
    "}\n",
    "qconst <- quantile(bootmat[,1], probs = c(0.025,0.975))\n",
    "qkulutus <- quantile(bootmat[,2], probs = c(0.025,0.975))\n",
    "print(\"Vakion luottamusväli\")\n",
    "qconst\n",
    "print(\"Kulutuksen luottamusväli\")\n",
    "qkulutus"
   ]
  },
  {
   "cell_type": "code",
   "execution_count": 190,
   "metadata": {
    "collapsed": false
   },
   "outputs": [
    {
     "data": {
      "text/html": [
       "<table>\n",
       "<thead><tr><th scope=col>KULUTUS</th><th scope=col>SAIRAST</th><th scope=col>Vakio</th></tr></thead>\n",
       "<tbody>\n",
       "\t<tr><td>220</td><td> 58</td><td>  1</td></tr>\n",
       "\t<tr><td>250</td><td> 90</td><td>  1</td></tr>\n",
       "\t<tr><td>310</td><td>115</td><td>  1</td></tr>\n",
       "\t<tr><td>510</td><td>150</td><td>  1</td></tr>\n",
       "\t<tr><td>380</td><td>165</td><td>  1</td></tr>\n",
       "\t<tr><td>455</td><td>170</td><td>  1</td></tr>\n",
       "\t<tr><td>1280</td><td> 190</td><td>   1</td></tr>\n",
       "\t<tr><td>460</td><td>245</td><td>  1</td></tr>\n",
       "\t<tr><td>530</td><td>250</td><td>  1</td></tr>\n",
       "\t<tr><td>1115</td><td> 350</td><td>   1</td></tr>\n",
       "\t<tr><td>1145</td><td> 465</td><td>   1</td></tr>\n",
       "</tbody>\n",
       "</table>\n"
      ],
      "text/latex": [
       "\\begin{tabular}{lll}\n",
       " KULUTUS & SAIRAST & Vakio\\\\\n",
       "\\hline\n",
       "\t 220 &  58 &   1\\\\\n",
       "\t 250 &  90 &   1\\\\\n",
       "\t 310 & 115 &   1\\\\\n",
       "\t 510 & 150 &   1\\\\\n",
       "\t 380 & 165 &   1\\\\\n",
       "\t 455 & 170 &   1\\\\\n",
       "\t 1280 &  190 &    1\\\\\n",
       "\t 460 & 245 &   1\\\\\n",
       "\t 530 & 250 &   1\\\\\n",
       "\t 1115 &  350 &    1\\\\\n",
       "\t 1145 &  465 &    1\\\\\n",
       "\\end{tabular}\n"
      ],
      "text/markdown": [
       "1. 220\n",
       "2. 250\n",
       "3. 310\n",
       "4. 510\n",
       "5. 380\n",
       "6. 455\n",
       "7. 1280\n",
       "8. 460\n",
       "9. 530\n",
       "10. 1115\n",
       "11. 1145\n",
       "12. 58\n",
       "13. 90\n",
       "14. 115\n",
       "15. 150\n",
       "16. 165\n",
       "17. 170\n",
       "18. 190\n",
       "19. 245\n",
       "20. 250\n",
       "21. 350\n",
       "22. 465\n",
       "23. 1\n",
       "24. 1\n",
       "25. 1\n",
       "26. 1\n",
       "27. 1\n",
       "28. 1\n",
       "29. 1\n",
       "30. 1\n",
       "31. 1\n",
       "32. 1\n",
       "33. 1\n",
       "\n",
       "\n"
      ],
      "text/plain": [
       "      KULUTUS SAIRAST Vakio\n",
       " [1,]     220      58     1\n",
       " [2,]     250      90     1\n",
       " [3,]     310     115     1\n",
       " [4,]     510     150     1\n",
       " [5,]     380     165     1\n",
       " [6,]     455     170     1\n",
       " [7,]    1280     190     1\n",
       " [8,]     460     245     1\n",
       " [9,]     530     250     1\n",
       "[10,]    1115     350     1\n",
       "[11,]    1145     465     1"
      ]
     },
     "metadata": {},
     "output_type": "display_data"
    }
   ],
   "source": [
    "data1"
   ]
  },
  {
   "cell_type": "code",
   "execution_count": 174,
   "metadata": {
    "collapsed": false
   },
   "outputs": [
    {
     "data": {
      "text/html": [
       "<dl class=dl-horizontal>\n",
       "\t<dt>2.5%</dt>\n",
       "\t\t<dd>0.0536554144182496</dd>\n",
       "\t<dt>97.5%</dt>\n",
       "\t\t<dd>0.429300974643709</dd>\n",
       "</dl>\n"
      ],
      "text/latex": [
       "\\begin{description*}\n",
       "\\item[2.5\\textbackslash{}\\%] 0.0536554144182496\n",
       "\\item[97.5\\textbackslash{}\\%] 0.429300974643709\n",
       "\\end{description*}\n"
      ],
      "text/markdown": [
       "2.5%\n",
       ":   0.053655414418249697.5%\n",
       ":   0.429300974643709\n",
       "\n"
      ],
      "text/plain": [
       "      2.5%      97.5% \n",
       "0.05365541 0.42930097 "
      ]
     },
     "metadata": {},
     "output_type": "display_data"
    },
    {
     "data": {
      "text/html": [
       "<dl class=dl-horizontal>\n",
       "\t<dt>2.5%</dt>\n",
       "\t\t<dd>-0.37777311758719</dd>\n",
       "\t<dt>97.5%</dt>\n",
       "\t\t<dd>0.751398694721411</dd>\n",
       "</dl>\n"
      ],
      "text/latex": [
       "\\begin{description*}\n",
       "\\item[2.5\\textbackslash{}\\%] -0.37777311758719\n",
       "\\item[97.5\\textbackslash{}\\%] 0.751398694721411\n",
       "\\end{description*}\n"
      ],
      "text/markdown": [
       "2.5%\n",
       ":   -0.3777731175871997.5%\n",
       ":   0.751398694721411\n",
       "\n"
      ],
      "text/plain": [
       "      2.5%      97.5% \n",
       "-0.3777731  0.7513987 "
      ]
     },
     "metadata": {},
     "output_type": "display_data"
    }
   ],
   "source": [
    "qconst\n",
    "qkulutus"
   ]
  },
  {
   "cell_type": "code",
   "execution_count": 154,
   "metadata": {
    "collapsed": false
   },
   "outputs": [
    {
     "ename": "ERROR",
     "evalue": "Error in library(matmult): there is no package called ‘matmult’\n",
     "output_type": "error",
     "traceback": [
      "Error in library(matmult): there is no package called ‘matmult’\nTraceback:\n",
      "1. library(matmult)",
      "2. stop(txt, domain = NA)"
     ]
    }
   ],
   "source": [
    "library(matmult)"
   ]
  },
  {
   "cell_type": "code",
   "execution_count": 160,
   "metadata": {
    "collapsed": false
   },
   "outputs": [
    {
     "ename": "ERROR",
     "evalue": "Error in eval(expr, envir, enclos): could not find function \"% * %\"\n",
     "output_type": "error",
     "traceback": [
      "Error in eval(expr, envir, enclos): could not find function \"% * %\"\nTraceback:\n"
     ]
    }
   ],
   "source": [
    "t(X)% * %X"
   ]
  },
  {
   "cell_type": "code",
   "execution_count": 164,
   "metadata": {
    "collapsed": false
   },
   "outputs": [
    {
     "name": "stderr",
     "output_type": "stream",
     "text": [
      "Loading required package: matmul\n",
      "Warning message in library(package, lib.loc = lib.loc, character.only = TRUE, logical.return = TRUE, :\n",
      "“there is no package called ‘matmul’”"
     ]
    }
   ],
   "source": [
    "require(matmul)"
   ]
  },
  {
   "cell_type": "raw",
   "metadata": {},
   "source": [
    "require(base)"
   ]
  },
  {
   "cell_type": "code",
   "execution_count": null,
   "metadata": {
    "collapsed": true
   },
   "outputs": [],
   "source": []
  }
 ],
 "metadata": {
  "kernelspec": {
   "display_name": "R",
   "language": "R",
   "name": "ir"
  },
  "language_info": {
   "codemirror_mode": "r",
   "file_extension": ".r",
   "mimetype": "text/x-r-source",
   "name": "R",
   "pygments_lexer": "r",
   "version": "3.3.1"
  }
 },
 "nbformat": 4,
 "nbformat_minor": 0
}
