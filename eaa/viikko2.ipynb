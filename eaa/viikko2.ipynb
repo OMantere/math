{
 "cells": [
  {
   "cell_type": "code",
   "execution_count": 2,
   "metadata": {
    "collapsed": false
   },
   "outputs": [],
   "source": [
    "set.seed(123)\n",
    "tupakka = read.table(\"tupakka.txt\", header=T, sep=\"\\t\")\n",
    "hald = read.table(\"hald.txt\", header=T, sep=\"\\t\")\n",
    "vehna = read.table(\"VehnanSato.txt\", header=T, sep=\"\\t\")"
   ]
  },
  {
   "cell_type": "code",
   "execution_count": 3,
   "metadata": {
    "collapsed": false
   },
   "outputs": [
    {
     "data": {
      "text/html": [
       "<table>\n",
       "<thead><tr><th></th><th scope=col>CONFINTL</th><th scope=col>CONFINTU</th><th scope=col>DIST</th><th scope=col>FIT</th><th scope=col>KULUTUS</th><th scope=col>LEV</th><th scope=col>MAA</th><th scope=col>OUT</th><th scope=col>PDIST</th><th scope=col>POUT</th><th scope=col>PREDINTL</th><th scope=col>PREDINTU</th><th scope=col>RES</th><th scope=col>SAIRAST</th><th scope=col>STDRES</th></tr></thead>\n",
       "<tbody>\n",
       "\t<tr><th scope=row>1</th><td> 32.9283930</td><td>199.3800600</td><td>  0.0698498</td><td>116.1542300</td><td>220.0000000</td><td>  0.1912374</td><td>  1.0000000</td><td> -0.7497030</td><td>  0.9330344</td><td>  0.4749001</td><td>-91.5622400</td><td>323.8707000</td><td>-58.1542300</td><td> 58.0000000</td><td> -0.7686370</td></tr>\n",
       "\t<tr><th scope=row>2</th><td> 43.1384550</td><td>202.9169200</td><td>  0.0200092</td><td>123.0276900</td><td>250.0000000</td><td>  0.1762110</td><td>  2.0000000</td><td> -0.4121030</td><td>  0.9802331</td><td>  0.6910847</td><td>-83.3745400</td><td>329.4299300</td><td>-33.0276900</td><td> 90.0000000</td><td> -0.4325350</td></tr>\n",
       "\t<tr><th scope=row>3</th><td> 63.1120350</td><td>210.4371800</td><td>  0.0069422</td><td>136.7746100</td><td>310.0000000</td><td>  0.1498132</td><td>  3.0000000</td><td> -0.2658130</td><td>  0.9930872</td><td>  0.7971046</td><td>-67.2983400</td><td>340.8475600</td><td>-21.7746100</td><td>115.0000000</td><td> -0.2807010</td></tr>\n",
       "\t<tr><th scope=row>4</th><td>123.3191300</td><td>241.8762100</td><td>  0.0089318</td><td>182.5976700</td><td>510.0000000</td><td>  0.0970178</td><td>  4.0000000</td><td> -0.3880350</td><td>  0.9911168</td><td>  0.7081114</td><td>-16.7350500</td><td>381.9304100</td><td>-32.5976700</td><td>150.0000000</td><td> -0.4077530</td></tr>\n",
       "\t<tr><th scope=row>5</th><td> 85.4791780</td><td>220.1461900</td><td>  0.0017162</td><td>152.8126800</td><td>380.0000000</td><td>  0.1251754</td><td>  5.0000000</td><td>  0.1462183</td><td>  0.9982856</td><td>  0.8873664</td><td>-49.0620100</td><td>354.6873800</td><td> 12.1873140</td><td>165.0000000</td><td>  0.1548811</td></tr>\n",
       "\t<tr><th scope=row>6</th><td>107.9939500</td><td>231.9987100</td><td>  0.0000000</td><td>169.9963300</td><td>455.0000000</td><td>  0.1061385</td><td>  6.0000000</td><td>  0.0000434</td><td>  1.0000000</td><td>  0.9999664</td><td>-30.1633200</td><td>370.1559900</td><td>  0.0036643</td><td>170.0000000</td><td>  0.0000461</td></tr>\n",
       "\t<tr><th scope=row>7</th><td> 238.7555700</td><td> 479.2774000</td><td>   2.2332043</td><td> 359.0164800</td><td>1280.0000000</td><td>   0.3993056</td><td>   7.0000000</td><td>  -4.8544330</td><td>   0.1631016</td><td>   0.0012647</td><td> 133.8892300</td><td> 584.1437400</td><td>-169.0164000</td><td> 190.0000000</td><td>  -2.5921090</td></tr>\n",
       "\t<tr><th scope=row>8</th><td>109.4318200</td><td>232.8519900</td><td>  0.0505972</td><td>171.1419100</td><td>460.0000000</td><td>  0.1051402</td><td>  8.0000000</td><td>  0.9201073</td><td>  0.9509299</td><td>  0.3844218</td><td>-28.9273900</td><td>371.2112200</td><td> 73.8580870</td><td>245.0000000</td><td>  0.9280504</td></tr>\n",
       "\t<tr><th scope=row>9</th><td>128.6087300</td><td>245.7512300</td><td>  0.0322199</td><td>187.1799800</td><td>530.0000000</td><td>  0.0947165</td><td>  9.0000000</td><td>  0.7666085</td><td>  0.9684048</td><td>  0.4653323</td><td>-11.9435500</td><td>386.3035300</td><td> 62.8200140</td><td>250.0000000</td><td>  0.7847959</td></tr>\n",
       "\t<tr><th scope=row>10</th><td> 222.8801500</td><td> 419.5447600</td><td>   0.0290855</td><td> 321.2124500</td><td>1115.0000000</td><td>   0.2669616</td><td>  10.0000000</td><td>   0.3801933</td><td>   0.9714243</td><td>   0.7136974</td><td> 106.9956600</td><td> 535.4292500</td><td>  28.7875410</td><td> 350.0000000</td><td>   0.3996614</td></tr>\n",
       "\t<tr><th scope=row>11</th><td> 225.9023100</td><td> 430.2695100</td><td>   0.7536544</td><td> 328.0859100</td><td>1145.0000000</td><td>   0.2882829</td><td>  11.0000000</td><td>   2.3747921</td><td>   0.4981723</td><td>   0.0449092</td><td> 112.0741500</td><td> 544.0976800</td><td> 136.9140800</td><td> 465.0000000</td><td>   1.9290587</td></tr>\n",
       "</tbody>\n",
       "</table>\n"
      ],
      "text/latex": [
       "\\begin{tabular}{r|lllllllllllllll}\n",
       "  & CONFINTL & CONFINTU & DIST & FIT & KULUTUS & LEV & MAA & OUT & PDIST & POUT & PREDINTL & PREDINTU & RES & SAIRAST & STDRES\\\\\n",
       "\\hline\n",
       "\t1 &  32.9283930 & 199.3800600 &   0.0698498 & 116.1542300 & 220.0000000 &   0.1912374 &   1.0000000 &  -0.7497030 &   0.9330344 &   0.4749001 & -91.5622400 & 323.8707000 & -58.1542300 &  58.0000000 &  -0.7686370\\\\\n",
       "\t2 &  43.1384550 & 202.9169200 &   0.0200092 & 123.0276900 & 250.0000000 &   0.1762110 &   2.0000000 &  -0.4121030 &   0.9802331 &   0.6910847 & -83.3745400 & 329.4299300 & -33.0276900 &  90.0000000 &  -0.4325350\\\\\n",
       "\t3 &  63.1120350 & 210.4371800 &   0.0069422 & 136.7746100 & 310.0000000 &   0.1498132 &   3.0000000 &  -0.2658130 &   0.9930872 &   0.7971046 & -67.2983400 & 340.8475600 & -21.7746100 & 115.0000000 &  -0.2807010\\\\\n",
       "\t4 & 123.3191300 & 241.8762100 &   0.0089318 & 182.5976700 & 510.0000000 &   0.0970178 &   4.0000000 &  -0.3880350 &   0.9911168 &   0.7081114 & -16.7350500 & 381.9304100 & -32.5976700 & 150.0000000 &  -0.4077530\\\\\n",
       "\t5 &  85.4791780 & 220.1461900 &   0.0017162 & 152.8126800 & 380.0000000 &   0.1251754 &   5.0000000 &   0.1462183 &   0.9982856 &   0.8873664 & -49.0620100 & 354.6873800 &  12.1873140 & 165.0000000 &   0.1548811\\\\\n",
       "\t6 & 107.9939500 & 231.9987100 &   0.0000000 & 169.9963300 & 455.0000000 &   0.1061385 &   6.0000000 &   0.0000434 &   1.0000000 &   0.9999664 & -30.1633200 & 370.1559900 &   0.0036643 & 170.0000000 &   0.0000461\\\\\n",
       "\t7 &  238.7555700 &  479.2774000 &    2.2332043 &  359.0164800 & 1280.0000000 &    0.3993056 &    7.0000000 &   -4.8544330 &    0.1631016 &    0.0012647 &  133.8892300 &  584.1437400 & -169.0164000 &  190.0000000 &   -2.5921090\\\\\n",
       "\t8 & 109.4318200 & 232.8519900 &   0.0505972 & 171.1419100 & 460.0000000 &   0.1051402 &   8.0000000 &   0.9201073 &   0.9509299 &   0.3844218 & -28.9273900 & 371.2112200 &  73.8580870 & 245.0000000 &   0.9280504\\\\\n",
       "\t9 & 128.6087300 & 245.7512300 &   0.0322199 & 187.1799800 & 530.0000000 &   0.0947165 &   9.0000000 &   0.7666085 &   0.9684048 &   0.4653323 & -11.9435500 & 386.3035300 &  62.8200140 & 250.0000000 &   0.7847959\\\\\n",
       "\t10 &  222.8801500 &  419.5447600 &    0.0290855 &  321.2124500 & 1115.0000000 &    0.2669616 &   10.0000000 &    0.3801933 &    0.9714243 &    0.7136974 &  106.9956600 &  535.4292500 &   28.7875410 &  350.0000000 &    0.3996614\\\\\n",
       "\t11 &  225.9023100 &  430.2695100 &    0.7536544 &  328.0859100 & 1145.0000000 &    0.2882829 &   11.0000000 &    2.3747921 &    0.4981723 &    0.0449092 &  112.0741500 &  544.0976800 &  136.9140800 &  465.0000000 &    1.9290587\\\\\n",
       "\\end{tabular}\n"
      ],
      "text/plain": [
       "    CONFINTL CONFINTU      DIST      FIT KULUTUS       LEV MAA        OUT\n",
       "1   32.92839 199.3801 0.0698498 116.1542     220 0.1912374   1 -0.7497030\n",
       "2   43.13846 202.9169 0.0200092 123.0277     250 0.1762110   2 -0.4121030\n",
       "3   63.11203 210.4372 0.0069422 136.7746     310 0.1498132   3 -0.2658130\n",
       "4  123.31913 241.8762 0.0089318 182.5977     510 0.0970178   4 -0.3880350\n",
       "5   85.47918 220.1462 0.0017162 152.8127     380 0.1251754   5  0.1462183\n",
       "6  107.99395 231.9987 0.0000000 169.9963     455 0.1061385   6  0.0000434\n",
       "7  238.75557 479.2774 2.2332043 359.0165    1280 0.3993056   7 -4.8544330\n",
       "8  109.43182 232.8520 0.0505972 171.1419     460 0.1051402   8  0.9201073\n",
       "9  128.60873 245.7512 0.0322199 187.1800     530 0.0947165   9  0.7666085\n",
       "10 222.88015 419.5448 0.0290855 321.2124    1115 0.2669616  10  0.3801933\n",
       "11 225.90231 430.2695 0.7536544 328.0859    1145 0.2882829  11  2.3747921\n",
       "       PDIST      POUT  PREDINTL PREDINTU          RES SAIRAST     STDRES\n",
       "1  0.9330344 0.4749001 -91.56224 323.8707  -58.1542300      58 -0.7686370\n",
       "2  0.9802331 0.6910847 -83.37454 329.4299  -33.0276900      90 -0.4325350\n",
       "3  0.9930872 0.7971046 -67.29834 340.8476  -21.7746100     115 -0.2807010\n",
       "4  0.9911168 0.7081114 -16.73505 381.9304  -32.5976700     150 -0.4077530\n",
       "5  0.9982856 0.8873664 -49.06201 354.6874   12.1873140     165  0.1548811\n",
       "6  1.0000000 0.9999664 -30.16332 370.1560    0.0036643     170  0.0000461\n",
       "7  0.1631016 0.0012647 133.88923 584.1437 -169.0164000     190 -2.5921090\n",
       "8  0.9509299 0.3844218 -28.92739 371.2112   73.8580870     245  0.9280504\n",
       "9  0.9684048 0.4653323 -11.94355 386.3035   62.8200140     250  0.7847959\n",
       "10 0.9714243 0.7136974 106.99566 535.4293   28.7875410     350  0.3996614\n",
       "11 0.4981723 0.0449092 112.07415 544.0977  136.9140800     465  1.9290587"
      ]
     },
     "metadata": {},
     "output_type": "display_data"
    }
   ],
   "source": [
    "tupakka"
   ]
  },
  {
   "cell_type": "code",
   "execution_count": 4,
   "metadata": {
    "collapsed": true
   },
   "outputs": [],
   "source": [
    "malli <- lm(SAIRAST~KULUTUS, data=tupakka)"
   ]
  },
  {
   "cell_type": "code",
   "execution_count": 5,
   "metadata": {
    "collapsed": false
   },
   "outputs": [
    {
     "data": {
      "text/plain": [
       "\n",
       "Call:\n",
       "lm(formula = SAIRAST ~ KULUTUS, data = tupakka)\n",
       "\n",
       "Coefficients:\n",
       "(Intercept)      KULUTUS  \n",
       "    65.7489       0.2291  \n"
      ]
     },
     "metadata": {},
     "output_type": "display_data"
    }
   ],
   "source": [
    "malli"
   ]
  },
  {
   "cell_type": "code",
   "execution_count": 6,
   "metadata": {
    "collapsed": true
   },
   "outputs": [],
   "source": [
    "maat <- c(\"Islanti\", \"Norja\", \"Ruotsi\", \"Kanada\", \"Tanska\", \"Itävalta\", \"USA\", \"Hollanti\", \"Sveitsi\", \"Suomi\", \"Englanti\")"
   ]
  },
  {
   "cell_type": "code",
   "execution_count": 7,
   "metadata": {
    "collapsed": false
   },
   "outputs": [
    {
     "data": {
      "image/png": "[encoded data removed]",
      "text/plain": [
       "Plot with title “Kulutus/Sairastuneet per 100 000 henkilöä”"
      ]
     },
     "metadata": {},
     "output_type": "display_data"
    }
   ],
   "source": [
    "plot(tupakka$KULUTUS, tupakka$SAIRAST, ylab=\"Sairastuneet vuonna 1950\", xlab=\"Kulutus vuonna 2930\", pch=16,\n",
    "    main=\"Kulutus/Sairastuneet per 100 000 henkilöä\")\n",
    "abline(malli, col=\"red\")\n",
    "text(tupakka$KULUTUS, tupakka$SAIRAST, labels=maat, cex=0.8, pos=3)"
   ]
  },
  {
   "cell_type": "code",
   "execution_count": 8,
   "metadata": {
    "collapsed": true
   },
   "outputs": [],
   "source": [
    "FIT <- malli$fit\n",
    "RES <- malli$res"
   ]
  },
  {
   "cell_type": "code",
   "execution_count": 9,
   "metadata": {
    "collapsed": false
   },
   "outputs": [
    {
     "data": {
      "image/png": "[encoded data removed]",
      "text/plain": [
       "plot without title"
      ]
     },
     "metadata": {},
     "output_type": "display_data"
    }
   ],
   "source": [
    "plot(tupakka$SAIRAST, FIT, ylab=\"Sovitteet\", xlab=\"Sairastuneet\", pch=16)\n",
    "text(tupakka$SAIRAST, FIT, labels = ifelse(rownames(tupakka)==\"7\", maat, NA), pos=2)"
   ]
  },
  {
   "cell_type": "code",
   "execution_count": 10,
   "metadata": {
    "collapsed": false
   },
   "outputs": [
    {
     "data": {
      "text/plain": [
       "\n",
       "Call:\n",
       "lm(formula = SAIRAST ~ KULUTUS, data = tupakka)\n",
       "\n",
       "Residuals:\n",
       "     Min       1Q   Median       3Q      Max \n",
       "-169.016  -32.813    0.004   45.804  136.914 \n",
       "\n",
       "Coefficients:\n",
       "            Estimate Std. Error t value Pr(>|t|)   \n",
       "(Intercept) 65.74886   48.95871   1.343  0.21217   \n",
       "KULUTUS      0.22912    0.06921   3.310  0.00908 **\n",
       "---\n",
       "Signif. codes:  0 ‘***’ 0.001 ‘**’ 0.01 ‘*’ 0.05 ‘.’ 0.1 ‘ ’ 1\n",
       "\n",
       "Residual standard error: 84.13 on 9 degrees of freedom\n",
       "Multiple R-squared:  0.549,\tAdjusted R-squared:  0.4989 \n",
       "F-statistic: 10.96 on 1 and 9 DF,  p-value: 0.009081\n"
      ]
     },
     "metadata": {},
     "output_type": "display_data"
    }
   ],
   "source": [
    "summary(malli)"
   ]
  },
  {
   "cell_type": "code",
   "execution_count": 11,
   "metadata": {
    "collapsed": false,
    "scrolled": true
   },
   "outputs": [
    {
     "data": {
      "text/html": [
       "<pre class=language-r><code>function (side, at = NULL, labels = TRUE, tick = TRUE, line = NA, \n",
       "    pos = NA, outer = FALSE, font = NA, lty = \"solid\", lwd = 1, \n",
       "    lwd.ticks = lwd, col = NULL, col.ticks = NULL, hadj = NA, \n",
       "    padj = NA, ...) \n",
       "{\n",
       "    if (is.null(col) &amp;&amp; !missing(...) &amp;&amp; !is.null(fg &lt;- list(...)$fg)) \n",
       "        col &lt;- fg\n",
       "    invisible(.External.graphics(C_axis, side, at, as.graphicsAnnot(labels), \n",
       "        tick, line, pos, outer, font, lty, lwd, lwd.ticks, col, \n",
       "        col.ticks, hadj, padj, ...))\n",
       "}</code></pre>"
      ],
      "text/latex": [
       "\\begin{minted}{r}\n",
       "function (side, at = NULL, labels = TRUE, tick = TRUE, line = NA, \n",
       "    pos = NA, outer = FALSE, font = NA, lty = \"solid\", lwd = 1, \n",
       "    lwd.ticks = lwd, col = NULL, col.ticks = NULL, hadj = NA, \n",
       "    padj = NA, ...) \n",
       "\\{\n",
       "    if (is.null(col) \\&\\& !missing(...) \\&\\& !is.null(fg <- list(...)\\$fg)) \n",
       "        col <- fg\n",
       "    invisible(.External.graphics(C\\_axis, side, at, as.graphicsAnnot(labels), \n",
       "        tick, line, pos, outer, font, lty, lwd, lwd.ticks, col, \n",
       "        col.ticks, hadj, padj, ...))\n",
       "\\}\n",
       "\\end{minted}"
      ],
      "text/markdown": [
       "```r\n",
       "function (side, at = NULL, labels = TRUE, tick = TRUE, line = NA, \n",
       "    pos = NA, outer = FALSE, font = NA, lty = \"solid\", lwd = 1, \n",
       "    lwd.ticks = lwd, col = NULL, col.ticks = NULL, hadj = NA, \n",
       "    padj = NA, ...) \n",
       "{\n",
       "    if (is.null(col) && !missing(...) && !is.null(fg <- list(...)$fg)) \n",
       "        col <- fg\n",
       "    invisible(.External.graphics(C_axis, side, at, as.graphicsAnnot(labels), \n",
       "        tick, line, pos, outer, font, lty, lwd, lwd.ticks, col, \n",
       "        col.ticks, hadj, padj, ...))\n",
       "}\n",
       "```"
      ],
      "text/plain": [
       "function (side, at = NULL, labels = TRUE, tick = TRUE, line = NA, \n",
       "    pos = NA, outer = FALSE, font = NA, lty = \"solid\", lwd = 1, \n",
       "    lwd.ticks = lwd, col = NULL, col.ticks = NULL, hadj = NA, \n",
       "    padj = NA, ...) \n",
       "{\n",
       "    if (is.null(col) && !missing(...) && !is.null(fg <- list(...)$fg)) \n",
       "        col <- fg\n",
       "    invisible(.External.graphics(C_axis, side, at, as.graphicsAnnot(labels), \n",
       "        tick, line, pos, outer, font, lty, lwd, lwd.ticks, col, \n",
       "        col.ticks, hadj, padj, ...))\n",
       "}\n",
       "<bytecode: 0x31a0e38>\n",
       "<environment: namespace:graphics>"
      ]
     },
     "metadata": {},
     "output_type": "display_data"
    },
    {
     "data": {
      "image/png": "[encoded data removed]",
      "text/plain": [
       "plot without title"
      ]
     },
     "metadata": {},
     "output_type": "display_data"
    }
   ],
   "source": [
    "cooksd <- cooks.distance(malli)\n",
    "x <- plot(cooksd, xaxt=\"n\", xlab=\" \", ylab=\"Cookin etäisyys\")\n",
    "axis"
   ]
  },
  {
   "cell_type": "code",
   "execution_count": 12,
   "metadata": {
    "collapsed": false
   },
   "outputs": [
    {
     "data": {
      "text/plain": [
       "\n",
       "Call:\n",
       "lm(formula = SAIRAST ~ KULUTUS, data = tupakka2)\n",
       "\n",
       "Residuals:\n",
       "    Min      1Q  Median      3Q     Max \n",
       "-62.353 -28.923  -7.861  35.321  66.919 \n",
       "\n",
       "Coefficients:\n",
       "            Estimate Std. Error t value Pr(>|t|)    \n",
       "(Intercept) 13.55343   28.26713   0.479    0.644    \n",
       "KULUTUS      0.35767    0.04547   7.867 4.93e-05 ***\n",
       "---\n",
       "Signif. codes:  0 ‘***’ 0.001 ‘**’ 0.01 ‘*’ 0.05 ‘.’ 0.1 ‘ ’ 1\n",
       "\n",
       "Residual standard error: 44.92 on 8 degrees of freedom\n",
       "Multiple R-squared:  0.8855,\tAdjusted R-squared:  0.8712 \n",
       "F-statistic: 61.88 on 1 and 8 DF,  p-value: 4.928e-05\n"
      ]
     },
     "metadata": {},
     "output_type": "display_data"
    }
   ],
   "source": [
    "tupakka2 <- tupakka[-7,]\n",
    "malli2 <- lm(SAIRAST~KULUTUS, data=tupakka2)\n",
    "summary(malli2)"
   ]
  },
  {
   "cell_type": "code",
   "execution_count": 13,
   "metadata": {
    "collapsed": false
   },
   "outputs": [
    {
     "data": {
      "text/plain": [
       "\n",
       "Call:\n",
       "lm(formula = HEAT ~ CHEM1 + CHEM2 + CHEM3 + CHEM4, data = hald)\n",
       "\n",
       "Residuals:\n",
       "    Min      1Q  Median      3Q     Max \n",
       "-3.1750 -1.6709  0.2508  1.3783  3.9254 \n",
       "\n",
       "Coefficients:\n",
       "            Estimate Std. Error t value Pr(>|t|)  \n",
       "(Intercept)  62.4054    70.0710   0.891   0.3991  \n",
       "CHEM1         1.5511     0.7448   2.083   0.0708 .\n",
       "CHEM2         0.5102     0.7238   0.705   0.5009  \n",
       "CHEM3         0.1019     0.7547   0.135   0.8959  \n",
       "CHEM4        -0.1441     0.7091  -0.203   0.8441  \n",
       "---\n",
       "Signif. codes:  0 ‘***’ 0.001 ‘**’ 0.01 ‘*’ 0.05 ‘.’ 0.1 ‘ ’ 1\n",
       "\n",
       "Residual standard error: 2.446 on 8 degrees of freedom\n",
       "Multiple R-squared:  0.9824,\tAdjusted R-squared:  0.9736 \n",
       "F-statistic: 111.5 on 4 and 8 DF,  p-value: 4.756e-07\n"
      ]
     },
     "metadata": {},
     "output_type": "display_data"
    }
   ],
   "source": [
    "taysimalli <- lm(HEAT~CHEM1+CHEM2+CHEM3+CHEM4, data=hald)\n",
    "summary(taysimalli)"
   ]
  },
  {
   "cell_type": "code",
   "execution_count": 14,
   "metadata": {
    "collapsed": false
   },
   "outputs": [
    {
     "ename": "ERROR",
     "evalue": "Error in eval(expr, envir, enclos): could not find function \"vif\"\n",
     "output_type": "error",
     "traceback": [
      "Error in eval(expr, envir, enclos): could not find function \"vif\"\nTraceback:\n"
     ]
    }
   ],
   "source": [
    "vif(taysimalli)"
   ]
  },
  {
   "cell_type": "code",
   "execution_count": 15,
   "metadata": {
    "collapsed": false
   },
   "outputs": [
    {
     "name": "stderr",
     "output_type": "stream",
     "text": [
      "Updating HTML index of packages in '.Library'\n",
      "Making 'packages.html' ... done\n"
     ]
    }
   ],
   "source": [
    "install.packages(\"car\")"
   ]
  },
  {
   "cell_type": "code",
   "execution_count": 16,
   "metadata": {
    "collapsed": true
   },
   "outputs": [],
   "source": [
    "library(car)"
   ]
  },
  {
   "cell_type": "code",
   "execution_count": 17,
   "metadata": {
    "collapsed": false
   },
   "outputs": [
    {
     "data": {
      "text/html": [
       "<dl class=dl-horizontal>\n",
       "\t<dt>CHEM1</dt>\n",
       "\t\t<dd>38.4962114906368</dd>\n",
       "\t<dt>CHEM2</dt>\n",
       "\t\t<dd>254.42316585094</dd>\n",
       "\t<dt>CHEM3</dt>\n",
       "\t\t<dd>46.868386333574</dd>\n",
       "\t<dt>CHEM4</dt>\n",
       "\t\t<dd>282.512864788587</dd>\n",
       "</dl>\n"
      ],
      "text/latex": [
       "\\begin{description*}\n",
       "\\item[CHEM1] 38.4962114906368\n",
       "\\item[CHEM2] 254.42316585094\n",
       "\\item[CHEM3] 46.868386333574\n",
       "\\item[CHEM4] 282.512864788587\n",
       "\\end{description*}\n"
      ],
      "text/markdown": [
       "CHEM1\n",
       ":   38.4962114906368CHEM2\n",
       ":   254.42316585094CHEM3\n",
       ":   46.868386333574CHEM4\n",
       ":   282.512864788587\n",
       "\n"
      ],
      "text/plain": [
       "    CHEM1     CHEM2     CHEM3     CHEM4 \n",
       " 38.49621 254.42317  46.86839 282.51286 "
      ]
     },
     "metadata": {},
     "output_type": "display_data"
    }
   ],
   "source": [
    "vif(taysimalli)"
   ]
  },
  {
   "cell_type": "code",
   "execution_count": 18,
   "metadata": {
    "collapsed": false
   },
   "outputs": [
    {
     "data": {
      "text/html": [
       "<table>\n",
       "<thead><tr><th></th><th scope=col>CHEM1</th><th scope=col>CHEM2</th><th scope=col>CHEM3</th><th scope=col>CHEM4</th><th scope=col>HEAT</th><th scope=col>SUM</th></tr></thead>\n",
       "<tbody>\n",
       "\t<tr><th scope=row>CHEM1</th><td> 1.00000000</td><td> 0.22857947</td><td>-0.82413376</td><td>-0.24544511</td><td> 0.73071747</td><td> 0.05010722</td></tr>\n",
       "\t<tr><th scope=row>CHEM2</th><td> 0.2285795</td><td> 1.0000000</td><td>-0.1392424</td><td>-0.9729550</td><td> 0.8162526</td><td>-0.2604492</td></tr>\n",
       "\t<tr><th scope=row>CHEM3</th><td>-0.8241338</td><td>-0.1392424</td><td> 1.0000000</td><td> 0.0295370</td><td>-0.5346707</td><td>-0.1102512</td></tr>\n",
       "\t<tr><th scope=row>CHEM4</th><td>-0.2454451</td><td>-0.9729550</td><td> 0.0295370</td><td> 1.0000000</td><td>-0.8213050</td><td> 0.3290769</td></tr>\n",
       "\t<tr><th scope=row>HEAT</th><td> 0.7307175</td><td> 0.8162526</td><td>-0.5346707</td><td>-0.8213050</td><td> 1.0000000</td><td>-0.1645805</td></tr>\n",
       "\t<tr><th scope=row>SUM</th><td> 0.05010722</td><td>-0.26044918</td><td>-0.11025122</td><td> 0.32907694</td><td>-0.16458053</td><td> 1.00000000</td></tr>\n",
       "</tbody>\n",
       "</table>\n"
      ],
      "text/latex": [
       "\\begin{tabular}{r|llllll}\n",
       "  & CHEM1 & CHEM2 & CHEM3 & CHEM4 & HEAT & SUM\\\\\n",
       "\\hline\n",
       "\tCHEM1 &  1.00000000 &  0.22857947 & -0.82413376 & -0.24544511 &  0.73071747 &  0.05010722\\\\\n",
       "\tCHEM2 &  0.2285795 &  1.0000000 & -0.1392424 & -0.9729550 &  0.8162526 & -0.2604492\\\\\n",
       "\tCHEM3 & -0.8241338 & -0.1392424 &  1.0000000 &  0.0295370 & -0.5346707 & -0.1102512\\\\\n",
       "\tCHEM4 & -0.2454451 & -0.9729550 &  0.0295370 &  1.0000000 & -0.8213050 &  0.3290769\\\\\n",
       "\tHEAT &  0.7307175 &  0.8162526 & -0.5346707 & -0.8213050 &  1.0000000 & -0.1645805\\\\\n",
       "\tSUM &  0.05010722 & -0.26044918 & -0.11025122 &  0.32907694 & -0.16458053 &  1.00000000\\\\\n",
       "\\end{tabular}\n"
      ],
      "text/markdown": [
       "1. 1\n",
       "2. 0.228579470307565\n",
       "3. -0.824133764417199\n",
       "4. -0.245445107350598\n",
       "5. 0.730717471965077\n",
       "6. 0.0501072232615673\n",
       "7. 0.228579470307565\n",
       "8. 1\n",
       "9. -0.139242376105441\n",
       "10. -0.972954998907281\n",
       "11. 0.816252569756013\n",
       "12. -0.260449175457856\n",
       "13. -0.824133764417199\n",
       "14. -0.139242376105441\n",
       "15. 1\n",
       "16. 0.0295370032799582\n",
       "17. -0.534670675490822\n",
       "18. -0.11025121714681\n",
       "19. -0.245445107350598\n",
       "20. -0.972954998907281\n",
       "21. 0.0295370032799582\n",
       "22. 1\n",
       "23. -0.821305037200923\n",
       "24. 0.329076941051085\n",
       "25. 0.730717471965077\n",
       "26. 0.816252569756013\n",
       "27. -0.534670675490822\n",
       "28. -0.821305037200923\n",
       "29. 1\n",
       "30. -0.16458052633536\n",
       "31. 0.0501072232615673\n",
       "32. -0.260449175457856\n",
       "33. -0.11025121714681\n",
       "34. 0.329076941051085\n",
       "35. -0.16458052633536\n",
       "36. 1\n",
       "\n",
       "\n"
      ],
      "text/plain": [
       "            CHEM1      CHEM2      CHEM3      CHEM4       HEAT         SUM\n",
       "CHEM1  1.00000000  0.2285795 -0.8241338 -0.2454451  0.7307175  0.05010722\n",
       "CHEM2  0.22857947  1.0000000 -0.1392424 -0.9729550  0.8162526 -0.26044918\n",
       "CHEM3 -0.82413376 -0.1392424  1.0000000  0.0295370 -0.5346707 -0.11025122\n",
       "CHEM4 -0.24544511 -0.9729550  0.0295370  1.0000000 -0.8213050  0.32907694\n",
       "HEAT   0.73071747  0.8162526 -0.5346707 -0.8213050  1.0000000 -0.16458053\n",
       "SUM    0.05010722 -0.2604492 -0.1102512  0.3290769 -0.1645805  1.00000000"
      ]
     },
     "metadata": {},
     "output_type": "display_data"
    }
   ],
   "source": [
    "cor(hald)"
   ]
  },
  {
   "cell_type": "code",
   "execution_count": 27,
   "metadata": {
    "collapsed": false
   },
   "outputs": [],
   "source": [
    "malli2 <- lm(CHEM3~CHEM1+CHEM2+CHEM4,data=hald)"
   ]
  },
  {
   "cell_type": "code",
   "execution_count": 28,
   "metadata": {
    "collapsed": false
   },
   "outputs": [
    {
     "data": {
      "text/plain": [
       "\n",
       "Call:\n",
       "lm(formula = CHEM3 ~ CHEM1 + CHEM2 + CHEM4, data = hald)\n",
       "\n",
       "Residuals:\n",
       "    Min      1Q  Median      3Q     Max \n",
       "-2.1591 -0.7314  0.1962  0.7098  1.0475 \n",
       "\n",
       "Coefficients:\n",
       "            Estimate Std. Error t value Pr(>|t|)    \n",
       "(Intercept) 90.69759    6.61765   13.71 2.46e-07 ***\n",
       "CHEM1       -0.97307    0.05475  -17.77 2.56e-08 ***\n",
       "CHEM2       -0.92296    0.08685  -10.63 2.15e-06 ***\n",
       "CHEM4       -0.90746    0.08109  -11.19 1.39e-06 ***\n",
       "---\n",
       "Signif. codes:  0 ‘***’ 0.001 ‘**’ 0.01 ‘*’ 0.05 ‘.’ 0.1 ‘ ’ 1\n",
       "\n",
       "Residual standard error: 1.08 on 9 degrees of freedom\n",
       "Multiple R-squared:  0.9787,\tAdjusted R-squared:  0.9716 \n",
       "F-statistic: 137.6 on 3 and 9 DF,  p-value: 7.762e-08\n"
      ]
     },
     "metadata": {},
     "output_type": "display_data"
    }
   ],
   "source": [
    "summary(malli2)"
   ]
  },
  {
   "cell_type": "code",
   "execution_count": 29,
   "metadata": {
    "collapsed": false
   },
   "outputs": [
    {
     "name": "stdout",
     "output_type": "stream",
     "text": [
      "Start:  AIC=26.94\n",
      "HEAT ~ CHEM1 + CHEM2 + CHEM3 + CHEM4\n",
      "\n",
      "        Df Sum of Sq    RSS    AIC\n",
      "- CHEM3  1    0.1091 47.973 24.974\n",
      "- CHEM4  1    0.2470 48.111 25.011\n",
      "- CHEM2  1    2.9725 50.836 25.728\n",
      "<none>               47.864 26.944\n",
      "- CHEM1  1   25.9509 73.815 30.576\n",
      "\n",
      "Step:  AIC=24.97\n",
      "HEAT ~ CHEM1 + CHEM2 + CHEM4\n",
      "\n",
      "        Df Sum of Sq    RSS    AIC\n",
      "<none>                47.97 24.974\n",
      "- CHEM4  1      9.93  57.90 25.420\n",
      "- CHEM2  1     26.79  74.76 28.742\n",
      "- CHEM1  1    820.91 868.88 60.629\n"
     ]
    },
    {
     "data": {
      "text/plain": [
       "\n",
       "Call:\n",
       "lm(formula = HEAT ~ CHEM1 + CHEM2 + CHEM4, data = hald)\n",
       "\n",
       "Coefficients:\n",
       "(Intercept)        CHEM1        CHEM2        CHEM4  \n",
       "    71.6483       1.4519       0.4161      -0.2365  \n"
      ]
     },
     "metadata": {},
     "output_type": "display_data"
    }
   ],
   "source": [
    "step(taysimalli)"
   ]
  },
  {
   "cell_type": "code",
   "execution_count": 30,
   "metadata": {
    "collapsed": true
   },
   "outputs": [],
   "source": [
    "parasmalli <- lm(HEAT~CHEM1+CHEM2+CHEM4, data=hald)"
   ]
  },
  {
   "cell_type": "code",
   "execution_count": 31,
   "metadata": {
    "collapsed": false
   },
   "outputs": [
    {
     "data": {
      "text/plain": [
       "\n",
       "Call:\n",
       "lm(formula = HEAT ~ CHEM1 + CHEM2 + CHEM4, data = hald)\n",
       "\n",
       "Residuals:\n",
       "    Min      1Q  Median      3Q     Max \n",
       "-3.0919 -1.8016  0.2562  1.2818  3.8982 \n",
       "\n",
       "Coefficients:\n",
       "            Estimate Std. Error t value Pr(>|t|)    \n",
       "(Intercept)  71.6483    14.1424   5.066 0.000675 ***\n",
       "CHEM1         1.4519     0.1170  12.410 5.78e-07 ***\n",
       "CHEM2         0.4161     0.1856   2.242 0.051687 .  \n",
       "CHEM4        -0.2365     0.1733  -1.365 0.205395    \n",
       "---\n",
       "Signif. codes:  0 ‘***’ 0.001 ‘**’ 0.01 ‘*’ 0.05 ‘.’ 0.1 ‘ ’ 1\n",
       "\n",
       "Residual standard error: 2.309 on 9 degrees of freedom\n",
       "Multiple R-squared:  0.9823,\tAdjusted R-squared:  0.9764 \n",
       "F-statistic: 166.8 on 3 and 9 DF,  p-value: 3.323e-08\n"
      ]
     },
     "metadata": {},
     "output_type": "display_data"
    }
   ],
   "source": [
    "summary(parasmalli)"
   ]
  },
  {
   "cell_type": "code",
   "execution_count": 32,
   "metadata": {
    "collapsed": false
   },
   "outputs": [
    {
     "ename": "ERROR",
     "evalue": "Error in hist.default(parasmalli): 'x' must be numeric\n",
     "output_type": "error",
     "traceback": [
      "Error in hist.default(parasmalli): 'x' must be numeric\nTraceback:\n",
      "1. hist(parasmalli)",
      "2. hist.default(parasmalli)",
      "3. stop(\"'x' must be numeric\")"
     ]
    }
   ],
   "source": [
    "hist(parasmalli)"
   ]
  },
  {
   "cell_type": "code",
   "execution_count": 33,
   "metadata": {
    "collapsed": false
   },
   "outputs": [
    {
     "data": {
      "image/png": "[encoded data removed]",
      "text/plain": [
       "plot without title"
      ]
     },
     "metadata": {},
     "output_type": "display_data"
    }
   ],
   "source": [
    "plot(resid(parasmalli))"
   ]
  },
  {
   "cell_type": "code",
   "execution_count": 34,
   "metadata": {
    "collapsed": false
   },
   "outputs": [
    {
     "data": {
      "image/png": "[encoded data removed]",
      "text/plain": [
       "Plot with title “density.default(x = resid(parasmalli))”"
      ]
     },
     "metadata": {},
     "output_type": "display_data"
    }
   ],
   "source": [
    "plot(density(resid(parasmalli)))"
   ]
  },
  {
   "cell_type": "code",
   "execution_count": 44,
   "metadata": {
    "collapsed": false
   },
   "outputs": [
    {
     "data": {
      "text/plain": [
       "\n",
       "Call:\n",
       "lm(formula = HEAT ~ CHEM2 + CHEM3 + CHEM4, data = hald)\n",
       "\n",
       "Residuals:\n",
       "   Min     1Q Median     3Q    Max \n",
       "-4.906 -1.422  0.123  1.934  3.633 \n",
       "\n",
       "Coefficients:\n",
       "            Estimate Std. Error t value Pr(>|t|)    \n",
       "(Intercept) 203.6420    20.6478   9.863 4.01e-06 ***\n",
       "CHEM2        -0.9234     0.2619  -3.525 0.006462 ** \n",
       "CHEM3        -1.4480     0.1471  -9.846 4.07e-06 ***\n",
       "CHEM4        -1.5570     0.2413  -6.454 0.000118 ***\n",
       "---\n",
       "Signif. codes:  0 ‘***’ 0.001 ‘**’ 0.01 ‘*’ 0.05 ‘.’ 0.1 ‘ ’ 1\n",
       "\n",
       "Residual standard error: 2.864 on 9 degrees of freedom\n",
       "Multiple R-squared:  0.9728,\tAdjusted R-squared:  0.9638 \n",
       "F-statistic: 107.4 on 3 and 9 DF,  p-value: 2.302e-07\n"
      ]
     },
     "metadata": {},
     "output_type": "display_data"
    }
   ],
   "source": [
    "summary(parasmalli <- lm(HEAT~CHEM2+CHEM3+CHEM4, data=hald))"
   ]
  },
  {
   "cell_type": "code",
   "execution_count": 45,
   "metadata": {
    "collapsed": false
   },
   "outputs": [
    {
     "data": {
      "text/html": [
       "<dl class=dl-horizontal>\n",
       "\t<dt>CHEM2</dt>\n",
       "\t\t<dd>24.3091764268451</dd>\n",
       "\t<dt>CHEM3</dt>\n",
       "\t\t<dd>1.29823552001575</dd>\n",
       "\t<dt>CHEM4</dt>\n",
       "\t\t<dd>23.8586745674898</dd>\n",
       "</dl>\n"
      ],
      "text/latex": [
       "\\begin{description*}\n",
       "\\item[CHEM2] 24.3091764268451\n",
       "\\item[CHEM3] 1.29823552001575\n",
       "\\item[CHEM4] 23.8586745674898\n",
       "\\end{description*}\n"
      ],
      "text/markdown": [
       "CHEM2\n",
       ":   24.3091764268451CHEM3\n",
       ":   1.29823552001575CHEM4\n",
       ":   23.8586745674898\n",
       "\n"
      ],
      "text/plain": [
       "    CHEM2     CHEM3     CHEM4 \n",
       "24.309176  1.298236 23.858675 "
      ]
     },
     "metadata": {},
     "output_type": "display_data"
    }
   ],
   "source": [
    "vif(parasmalli)"
   ]
  },
  {
   "cell_type": "code",
   "execution_count": 46,
   "metadata": {
    "collapsed": false
   },
   "outputs": [
    {
     "data": {
      "image/png": "[encoded data removed]",
      "text/plain": [
       "Plot with title “density.default(x = resid(parasmalli))”"
      ]
     },
     "metadata": {},
     "output_type": "display_data"
    }
   ],
   "source": [
    "plot(density(resid(parasmalli)))"
   ]
  },
  {
   "cell_type": "code",
   "execution_count": 48,
   "metadata": {
    "collapsed": false
   },
   "outputs": [
    {
     "data": {
      "text/html": [
       "<table>\n",
       "<thead><tr><th></th><th scope=col>LSqrd</th><th scope=col>Lannoite</th><th scope=col>Sato</th></tr></thead>\n",
       "<tbody>\n",
       "\t<tr><th scope=row>1</th><td>  0</td><td>  0</td><td>190</td></tr>\n",
       "\t<tr><th scope=row>2</th><td>  0</td><td>  0</td><td>190</td></tr>\n",
       "\t<tr><th scope=row>3</th><td>  0</td><td>  0</td><td>200</td></tr>\n",
       "\t<tr><th scope=row>4</th><td>  1</td><td>  1</td><td>215</td></tr>\n",
       "\t<tr><th scope=row>5</th><td>  1</td><td>  1</td><td>220</td></tr>\n",
       "\t<tr><th scope=row>6</th><td>  1</td><td>  1</td><td>230</td></tr>\n",
       "\t<tr><th scope=row>7</th><td>  4</td><td>  2</td><td>240</td></tr>\n",
       "\t<tr><th scope=row>8</th><td>  4</td><td>  2</td><td>250</td></tr>\n",
       "\t<tr><th scope=row>9</th><td>  4</td><td>  2</td><td>255</td></tr>\n",
       "\t<tr><th scope=row>10</th><td>  9</td><td>  3</td><td>255</td></tr>\n",
       "\t<tr><th scope=row>11</th><td>  9</td><td>  3</td><td>270</td></tr>\n",
       "\t<tr><th scope=row>12</th><td>  9</td><td>  3</td><td>270</td></tr>\n",
       "\t<tr><th scope=row>13</th><td> 16</td><td>  4</td><td>250</td></tr>\n",
       "\t<tr><th scope=row>14</th><td> 16</td><td>  4</td><td>275</td></tr>\n",
       "\t<tr><th scope=row>15</th><td> 16</td><td>  4</td><td>280</td></tr>\n",
       "\t<tr><th scope=row>16</th><td> 25</td><td>  5</td><td>290</td></tr>\n",
       "\t<tr><th scope=row>17</th><td> 25</td><td>  5</td><td>300</td></tr>\n",
       "\t<tr><th scope=row>18</th><td> 25</td><td>  5</td><td>305</td></tr>\n",
       "\t<tr><th scope=row>19</th><td> 36</td><td>  6</td><td>270</td></tr>\n",
       "\t<tr><th scope=row>20</th><td> 36</td><td>  6</td><td>290</td></tr>\n",
       "\t<tr><th scope=row>21</th><td> 36</td><td>  6</td><td>300</td></tr>\n",
       "\t<tr><th scope=row>22</th><td> 49</td><td>  7</td><td>275</td></tr>\n",
       "\t<tr><th scope=row>23</th><td> 49</td><td>  7</td><td>275</td></tr>\n",
       "\t<tr><th scope=row>24</th><td> 49</td><td>  7</td><td>300</td></tr>\n",
       "\t<tr><th scope=row>25</th><td> 64</td><td>  8</td><td>275</td></tr>\n",
       "\t<tr><th scope=row>26</th><td> 64</td><td>  8</td><td>280</td></tr>\n",
       "\t<tr><th scope=row>27</th><td> 64</td><td>  8</td><td>315</td></tr>\n",
       "\t<tr><th scope=row>28</th><td> 81</td><td>  9</td><td>265</td></tr>\n",
       "\t<tr><th scope=row>29</th><td> 81</td><td>  9</td><td>280</td></tr>\n",
       "\t<tr><th scope=row>30</th><td> 81</td><td>  9</td><td>300</td></tr>\n",
       "\t<tr><th scope=row>31</th><td>100</td><td> 10</td><td>245</td></tr>\n",
       "\t<tr><th scope=row>32</th><td>100</td><td> 10</td><td>250</td></tr>\n",
       "\t<tr><th scope=row>33</th><td>100</td><td> 10</td><td>260</td></tr>\n",
       "</tbody>\n",
       "</table>\n"
      ],
      "text/latex": [
       "\\begin{tabular}{r|lll}\n",
       "  & LSqrd & Lannoite & Sato\\\\\n",
       "\\hline\n",
       "\t1 &   0 &   0 & 190\\\\\n",
       "\t2 &   0 &   0 & 190\\\\\n",
       "\t3 &   0 &   0 & 200\\\\\n",
       "\t4 &   1 &   1 & 215\\\\\n",
       "\t5 &   1 &   1 & 220\\\\\n",
       "\t6 &   1 &   1 & 230\\\\\n",
       "\t7 &   4 &   2 & 240\\\\\n",
       "\t8 &   4 &   2 & 250\\\\\n",
       "\t9 &   4 &   2 & 255\\\\\n",
       "\t10 &   9 &   3 & 255\\\\\n",
       "\t11 &   9 &   3 & 270\\\\\n",
       "\t12 &   9 &   3 & 270\\\\\n",
       "\t13 &  16 &   4 & 250\\\\\n",
       "\t14 &  16 &   4 & 275\\\\\n",
       "\t15 &  16 &   4 & 280\\\\\n",
       "\t16 &  25 &   5 & 290\\\\\n",
       "\t17 &  25 &   5 & 300\\\\\n",
       "\t18 &  25 &   5 & 305\\\\\n",
       "\t19 &  36 &   6 & 270\\\\\n",
       "\t20 &  36 &   6 & 290\\\\\n",
       "\t21 &  36 &   6 & 300\\\\\n",
       "\t22 &  49 &   7 & 275\\\\\n",
       "\t23 &  49 &   7 & 275\\\\\n",
       "\t24 &  49 &   7 & 300\\\\\n",
       "\t25 &  64 &   8 & 275\\\\\n",
       "\t26 &  64 &   8 & 280\\\\\n",
       "\t27 &  64 &   8 & 315\\\\\n",
       "\t28 &  81 &   9 & 265\\\\\n",
       "\t29 &  81 &   9 & 280\\\\\n",
       "\t30 &  81 &   9 & 300\\\\\n",
       "\t31 & 100 &  10 & 245\\\\\n",
       "\t32 & 100 &  10 & 250\\\\\n",
       "\t33 & 100 &  10 & 260\\\\\n",
       "\\end{tabular}\n"
      ],
      "text/plain": [
       "   LSqrd Lannoite Sato\n",
       "1      0        0  190\n",
       "2      0        0  190\n",
       "3      0        0  200\n",
       "4      1        1  215\n",
       "5      1        1  220\n",
       "6      1        1  230\n",
       "7      4        2  240\n",
       "8      4        2  250\n",
       "9      4        2  255\n",
       "10     9        3  255\n",
       "11     9        3  270\n",
       "12     9        3  270\n",
       "13    16        4  250\n",
       "14    16        4  275\n",
       "15    16        4  280\n",
       "16    25        5  290\n",
       "17    25        5  300\n",
       "18    25        5  305\n",
       "19    36        6  270\n",
       "20    36        6  290\n",
       "21    36        6  300\n",
       "22    49        7  275\n",
       "23    49        7  275\n",
       "24    49        7  300\n",
       "25    64        8  275\n",
       "26    64        8  280\n",
       "27    64        8  315\n",
       "28    81        9  265\n",
       "29    81        9  280\n",
       "30    81        9  300\n",
       "31   100       10  245\n",
       "32   100       10  250\n",
       "33   100       10  260"
      ]
     },
     "metadata": {},
     "output_type": "display_data"
    }
   ],
   "source": [
    "vehna"
   ]
  },
  {
   "cell_type": "code",
   "execution_count": 54,
   "metadata": {
    "collapsed": false
   },
   "outputs": [
    {
     "data": {
      "text/plain": [
       "\n",
       "Call:\n",
       "lm(formula = Sato ~ LSqrd, data = vehna)\n",
       "\n",
       "Residuals:\n",
       "    Min      1Q  Median      3Q     Max \n",
       "-57.803 -18.225   5.184  20.444  46.645 \n",
       "\n",
       "Coefficients:\n",
       "            Estimate Std. Error t value Pr(>|t|)    \n",
       "(Intercept) 247.8030     7.6493  32.395   <2e-16 ***\n",
       "LSqrd         0.4221     0.1594   2.648   0.0126 *  \n",
       "---\n",
       "Signif. codes:  0 ‘***’ 0.001 ‘**’ 0.01 ‘*’ 0.05 ‘.’ 0.1 ‘ ’ 1\n",
       "\n",
       "Residual standard error: 30.06 on 31 degrees of freedom\n",
       "Multiple R-squared:  0.1845,\tAdjusted R-squared:  0.1582 \n",
       "F-statistic: 7.012 on 1 and 31 DF,  p-value: 0.01262\n"
      ]
     },
     "metadata": {},
     "output_type": "display_data"
    }
   ],
   "source": [
    "summary(sqrdmalli_vehna <- lm(Sato~LSqrd, data=vehna))"
   ]
  },
  {
   "cell_type": "code",
   "execution_count": 76,
   "metadata": {
    "collapsed": false
   },
   "outputs": [
    {
     "data": {
      "image/png": "[encoded data removed]",
      "text/plain": [
       "plot without title"
      ]
     },
     "metadata": {},
     "output_type": "display_data"
    }
   ],
   "source": [
    "plot(vehna$LSqrd, vehna$Sato)\n",
    "abline(sqrdmalli_vehna)"
   ]
  },
  {
   "cell_type": "code",
   "execution_count": 77,
   "metadata": {
    "collapsed": false
   },
   "outputs": [
    {
     "data": {
      "image/png": "[encoded data removed]",
      "text/plain": [
       "plot without title"
      ]
     },
     "metadata": {},
     "output_type": "display_data"
    }
   ],
   "source": [
    "plot(vehna$Lannoite, vehna$Sato)\n",
    "abline(lannoitemalli_vehna)"
   ]
  },
  {
   "cell_type": "code",
   "execution_count": 78,
   "metadata": {
    "collapsed": false
   },
   "outputs": [
    {
     "data": {
      "text/plain": [
       "\n",
       "Call:\n",
       "lm(formula = Sato ~ LSqrd + Lannoite, data = vehna)\n",
       "\n",
       "Residuals:\n",
       "    Min      1Q  Median      3Q     Max \n",
       "-28.256  -8.007  -1.196   6.690  30.554 \n",
       "\n",
       "Coefficients:\n",
       "            Estimate Std. Error t value Pr(>|t|)    \n",
       "(Intercept) 193.3100     5.6511  34.207  < 2e-16 ***\n",
       "LSqrd        -2.4611     0.2532  -9.719 8.85e-11 ***\n",
       "Lannoite     31.0812     2.6292  11.821 8.11e-13 ***\n",
       "---\n",
       "Signif. codes:  0 ‘***’ 0.001 ‘**’ 0.01 ‘*’ 0.05 ‘.’ 0.1 ‘ ’ 1\n",
       "\n",
       "Residual standard error: 12.85 on 30 degrees of freedom\n",
       "Multiple R-squared:  0.8559,\tAdjusted R-squared:  0.8463 \n",
       "F-statistic: 89.07 on 2 and 30 DF,  p-value: 2.407e-13\n"
      ]
     },
     "metadata": {},
     "output_type": "display_data"
    }
   ],
   "source": [
    "summary(taysimalli_vehna)"
   ]
  },
  {
   "cell_type": "code",
   "execution_count": 79,
   "metadata": {
    "collapsed": false
   },
   "outputs": [
    {
     "data": {
      "text/plain": [
       "\n",
       "Call:\n",
       "lm(formula = Sato ~ Lannoite, data = vehna)\n",
       "\n",
       "Residuals:\n",
       "    Min      1Q  Median      3Q     Max \n",
       "-49.924 -16.697  -0.515  20.364  42.424 \n",
       "\n",
       "Coefficients:\n",
       "            Estimate Std. Error t value Pr(>|t|)    \n",
       "(Intercept)  230.227      8.384  27.462  < 2e-16 ***\n",
       "Lannoite       6.470      1.417   4.565 7.43e-05 ***\n",
       "---\n",
       "Signif. codes:  0 ‘***’ 0.001 ‘**’ 0.01 ‘*’ 0.05 ‘.’ 0.1 ‘ ’ 1\n",
       "\n",
       "Residual standard error: 25.74 on 31 degrees of freedom\n",
       "Multiple R-squared:  0.402,\tAdjusted R-squared:  0.3828 \n",
       "F-statistic: 20.84 on 1 and 31 DF,  p-value: 7.432e-05\n"
      ]
     },
     "metadata": {},
     "output_type": "display_data"
    }
   ],
   "source": [
    "summary(lannoitemalli_vehna)"
   ]
  },
  {
   "cell_type": "code",
   "execution_count": 81,
   "metadata": {
    "collapsed": false
   },
   "outputs": [
    {
     "data": {
      "text/html": [
       "<dl class=dl-horizontal>\n",
       "\t<dt>LSqrd</dt>\n",
       "\t\t<dd>13.8205128205128</dd>\n",
       "\t<dt>Lannoite</dt>\n",
       "\t\t<dd>13.8205128205128</dd>\n",
       "</dl>\n"
      ],
      "text/latex": [
       "\\begin{description*}\n",
       "\\item[LSqrd] 13.8205128205128\n",
       "\\item[Lannoite] 13.8205128205128\n",
       "\\end{description*}\n"
      ],
      "text/markdown": [
       "LSqrd\n",
       ":   13.8205128205128Lannoite\n",
       ":   13.8205128205128\n",
       "\n"
      ],
      "text/plain": [
       "   LSqrd Lannoite \n",
       "13.82051 13.82051 "
      ]
     },
     "metadata": {},
     "output_type": "display_data"
    }
   ],
   "source": [
    "vif(taysimalli_vehna)"
   ]
  },
  {
   "cell_type": "code",
   "execution_count": 83,
   "metadata": {
    "collapsed": false
   },
   "outputs": [
    {
     "data": {
      "text/plain": [
       "\n",
       "Call:\n",
       "lm(formula = Sato ~ LSqrd, data = vehna)\n",
       "\n",
       "Residuals:\n",
       "    Min      1Q  Median      3Q     Max \n",
       "-57.803 -18.225   5.184  20.444  46.645 \n",
       "\n",
       "Coefficients:\n",
       "            Estimate Std. Error t value Pr(>|t|)    \n",
       "(Intercept) 247.8030     7.6493  32.395   <2e-16 ***\n",
       "LSqrd         0.4221     0.1594   2.648   0.0126 *  \n",
       "---\n",
       "Signif. codes:  0 ‘***’ 0.001 ‘**’ 0.01 ‘*’ 0.05 ‘.’ 0.1 ‘ ’ 1\n",
       "\n",
       "Residual standard error: 30.06 on 31 degrees of freedom\n",
       "Multiple R-squared:  0.1845,\tAdjusted R-squared:  0.1582 \n",
       "F-statistic: 7.012 on 1 and 31 DF,  p-value: 0.01262\n"
      ]
     },
     "metadata": {},
     "output_type": "display_data"
    }
   ],
   "source": [
    "summary(sqrdmalli_vehna)"
   ]
  },
  {
   "cell_type": "code",
   "execution_count": 89,
   "metadata": {
    "collapsed": false
   },
   "outputs": [
    {
     "data": {
      "text/plain": [
       "\n",
       "Call:\n",
       "lm(formula = Lannoite ~ LSqrd, data = vehna)\n",
       "\n",
       "Residuals:\n",
       "    Min      1Q  Median      3Q     Max \n",
       "-1.7532 -0.8460  0.3098  0.7625  0.9276 \n",
       "\n",
       "Coefficients:\n",
       "            Estimate Std. Error t value Pr(>|t|)    \n",
       "(Intercept) 1.753247   0.223303   7.851 7.33e-09 ***\n",
       "LSqrd       0.092764   0.004653  19.936  < 2e-16 ***\n",
       "---\n",
       "Signif. codes:  0 ‘***’ 0.001 ‘**’ 0.01 ‘*’ 0.05 ‘.’ 0.1 ‘ ’ 1\n",
       "\n",
       "Residual standard error: 0.8776 on 31 degrees of freedom\n",
       "Multiple R-squared:  0.9276,\tAdjusted R-squared:  0.9253 \n",
       "F-statistic: 397.4 on 1 and 31 DF,  p-value: < 2.2e-16\n"
      ]
     },
     "metadata": {},
     "output_type": "display_data"
    }
   ],
   "source": [
    "summary(lm(Lannoite~LSqrd, data=vehna))"
   ]
  },
  {
   "cell_type": "code",
   "execution_count": 87,
   "metadata": {
    "collapsed": false
   },
   "outputs": [
    {
     "data": {
      "text/html": [
       "<dl class=dl-horizontal>\n",
       "\t<dt>LSqrd</dt>\n",
       "\t\t<dd>13.8205128205128</dd>\n",
       "\t<dt>Lannoite</dt>\n",
       "\t\t<dd>13.8205128205128</dd>\n",
       "</dl>\n"
      ],
      "text/latex": [
       "\\begin{description*}\n",
       "\\item[LSqrd] 13.8205128205128\n",
       "\\item[Lannoite] 13.8205128205128\n",
       "\\end{description*}\n"
      ],
      "text/markdown": [
       "LSqrd\n",
       ":   13.8205128205128Lannoite\n",
       ":   13.8205128205128\n",
       "\n"
      ],
      "text/plain": [
       "   LSqrd Lannoite \n",
       "13.82051 13.82051 "
      ]
     },
     "metadata": {},
     "output_type": "display_data"
    }
   ],
   "source": [
    "vif(taysimalli_vehna)"
   ]
  },
  {
   "cell_type": "code",
   "execution_count": 90,
   "metadata": {
    "collapsed": false,
    "scrolled": false
   },
   "outputs": [
    {
     "data": {
      "image/png": "[encoded data removed]",
      "text/plain": [
       "Plot with title “”"
      ]
     },
     "metadata": {},
     "output_type": "display_data"
    },
    {
     "data": {
      "image/png": "[encoded data removed]",
      "text/plain": [
       "Plot with title “”"
      ]
     },
     "metadata": {},
     "output_type": "display_data"
    },
    {
     "data": {
      "image/png": "[encoded data removed]",
      "text/plain": [
       "Plot with title “”"
      ]
     },
     "metadata": {},
     "output_type": "display_data"
    },
    {
     "data": {
      "image/png": "[encoded data removed]",
      "text/plain": [
       "Plot with title “”"
      ]
     },
     "metadata": {},
     "output_type": "display_data"
    }
   ],
   "source": [
    "plot(taysimalli_vehna)"
   ]
  },
  {
   "cell_type": "code",
   "execution_count": null,
   "metadata": {
    "collapsed": true
   },
   "outputs": [],
   "source": []
  }
 ],
 "metadata": {
  "kernelspec": {
   "display_name": "R",
   "language": "R",
   "name": "ir"
  },
  "language_info": {
   "codemirror_mode": "r",
   "file_extension": ".r",
   "mimetype": "text/x-r-source",
   "name": "R",
   "pygments_lexer": "r",
   "version": "3.3.1"
  }
 },
 "nbformat": 4,
 "nbformat_minor": 0
}
